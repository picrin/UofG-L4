{
 "cells": [
  {
   "cell_type": "markdown",
   "metadata": {},
   "source": [
    "# Control Centre"
   ]
  },
  {
   "cell_type": "code",
   "execution_count": 11,
   "metadata": {
    "collapsed": true
   },
   "outputs": [],
   "source": [
    "# make sure this doesn't clash with anything else!\n",
    "redisDB = 1\n",
    "\n",
    "# this will wipe out only the data generated previously by this script and owned by the script (i.e. only db=redisDB)\n",
    "wipeDB = True\n",
    "\n",
    "# you can set this up to 2**64 if you want everything read.\n",
    "readNo = 2**64\n",
    "\n",
    "# path to annotation file\n",
    "annotation = \"CEL_files/HuEx-1_0-st-v2.na36.hg19.probeset.csv\"\n",
    "\n",
    "# which line in the file contains the schema\n",
    "schemaLine = 22"
   ]
  },
  {
   "cell_type": "markdown",
   "metadata": {},
   "source": [
    "# This is safe to run: it's just some definitions"
   ]
  },
  {
   "cell_type": "code",
   "execution_count": 12,
   "metadata": {
    "collapsed": false
   },
   "outputs": [],
   "source": [
    "import redis\n",
    "import json\n",
    "\n",
    "r = redis.StrictRedis(host='localhost', port=2050, db=redisDB)\n",
    "\n",
    "metadataKeys = [\"probeset_id\", \"seqname\", \"strand\", \"start\", \"stop\", \"probe_count\", \"transcript_cluster_id\", \"exon_id\", \"psr_id\", \"level\"]\n",
    "\n",
    "def splitOnCommas(line):\n",
    "    return [e[1:-1] for e in line.rstrip().split(\",\")]\n",
    "\n",
    "def processLine(schema, line):\n",
    "    exampleValues = splitOnCommas(line)\n",
    "    mapping = {s : e for s, e in zip(schema, exampleValues)}\n",
    "    usualIDs = set()\n",
    "    weirdIDs = set()\n",
    "    try:\n",
    "        for element in mapping['gene_assignment'].split(\"///\"):\n",
    "            left, right = element.split(\"//\")\n",
    "            usualIDs.add(right.strip())\n",
    "    except Exception:\n",
    "        usualIDs = set()\n",
    "    try:\n",
    "        for element in mapping['mrna_assignment'].split(\"///\"):\n",
    "            weirdID = element.split(\"//\")[0].strip()\n",
    "            weirdIDs.add(weirdID)\n",
    "    except Exception:\n",
    "        weirdIDs = set()\n",
    "    probesetID = mapping[\"probeset_id\"]\n",
    "    transID = mapping[\"transcript_cluster_id\"]\n",
    "    metadata = {key:value for key, value in mapping.items() if key in metadataKeys}\n",
    "    return probesetID, transID, metadata, usualIDs, weirdIDs\n",
    "\n",
    "r.set('main$metadataKeys', json.dumps(metadataKeys))\n",
    "\n",
    "def upsertWeirdID(weirdID, transID):\n",
    "    r.sadd(\"search$weird$\" + weirdID, transID)\n",
    "    r.sadd(\"search$trans$weird$\" + transID, weirdID)\n",
    "    \n",
    "def upsertUsualID(usualID, transID):\n",
    "    r.sadd(\"search$usual$\" + usualID, transID)\n",
    "    r.sadd(\"search$trans$usual$\" + transID, usualID)\n",
    "    \n",
    "def upsertProbesetID(probesetID, transID):\n",
    "    r.sadd(\"search$probeset$\" + probesetID, transID)\n",
    "\n",
    "toInt = set([\"probeset_id\", \"start\", \"stop\", \"probe_count\", \"transcript_cluster_id\", \"exon_id\", \"psr_id\"])\n",
    "\n",
    "def setMetadata(probesetID, metadata):\n",
    "    toDump = []\n",
    "    for key in metadataKeys:\n",
    "        if key in toInt:\n",
    "            try:\n",
    "                toDump.append(int(metadata[key]))\n",
    "            except ValueError:\n",
    "                toDump.append(-1)\n",
    "        else:\n",
    "            toDump.append(metadata[key])\n",
    "    args= [\"probeset$metadata\", probesetID, json.dumps(toDump)]\n",
    "    r.hset(*args)\n",
    "    \n",
    "def upsertTrans(transID, probesetID):\n",
    "    r.sadd(\"trans$probeset$\" + transID, probesetID)\n",
    "\n",
    "def writeToRedis(probesetID, transID, metadata, usualIDs, weirdIDs):\n",
    "    for usualID in usualIDs:\n",
    "        upsertUsualID(usualID, transID)\n",
    "    for weirdID in weirdIDs:\n",
    "        upsertWeirdID(weirdID, transID)\n",
    "    upsertProbesetID(probesetID, transID)\n",
    "    setMetadata(probesetID, metadata)\n",
    "    upsertTrans(transID, probesetID)"
   ]
  },
  {
   "cell_type": "markdown",
   "metadata": {},
   "source": [
    "# Careful -- this can potentially wipe the DB (but will rebuild it afterwards)"
   ]
  },
  {
   "cell_type": "code",
   "execution_count": 3,
   "metadata": {
    "collapsed": false
   },
   "outputs": [],
   "source": [
    "if wipeDB:\n",
    "    r.flushdb()\n",
    "with open(annotation) as f:\n",
    "    schema = []\n",
    "    exampleValues = []\n",
    "    j = schemaLine\n",
    "    k = readNo\n",
    "    for i, line in enumerate(f):\n",
    "        if i == j:\n",
    "            schema = splitOnCommas(line)\n",
    "        elif i > j:\n",
    "            resultTuple = processLine(schema, line)\n",
    "            writeToRedis(*resultTuple)\n",
    "        if i == j + readNo + 1:\n",
    "            break"
   ]
  },
  {
   "cell_type": "markdown",
   "metadata": {},
   "source": [
    "# Example usage"
   ]
  },
  {
   "cell_type": "code",
   "execution_count": 4,
   "metadata": {
    "collapsed": false
   },
   "outputs": [
    {
     "data": {
      "text/plain": [
       "{b'2315101', b'2315102', b'2315103', b'2315104', b'2315105'}"
      ]
     },
     "execution_count": 4,
     "metadata": {},
     "output_type": "execute_result"
    }
   ],
   "source": [
    "r.smembers(b'trans$probeset$' + list(r.smembers(b'search$probeset$2315105'))[0])"
   ]
  },
  {
   "cell_type": "code",
   "execution_count": 8,
   "metadata": {
    "collapsed": false
   },
   "outputs": [
    {
     "data": {
      "text/plain": [
       "{b'2315101', b'2315102', b'2315103', b'2315104', b'2315105'}"
      ]
     },
     "execution_count": 8,
     "metadata": {},
     "output_type": "execute_result"
    }
   ],
   "source": [
    "r.smembers(b'trans$probeset$2315100')"
   ]
  },
  {
   "cell_type": "code",
   "execution_count": 3,
   "metadata": {
    "collapsed": false
   },
   "outputs": [
    {
     "ename": "NameError",
     "evalue": "name 'r' is not defined",
     "output_type": "error",
     "traceback": [
      "\u001b[0;31m---------------------------------------------------------------------------\u001b[0m",
      "\u001b[0;31mNameError\u001b[0m                                 Traceback (most recent call last)",
      "\u001b[0;32m<ipython-input-3-31281060be37>\u001b[0m in \u001b[0;36m<module>\u001b[0;34m()\u001b[0m\n\u001b[0;32m----> 1\u001b[0;31m \u001b[0mr\u001b[0m\u001b[0;34m.\u001b[0m\u001b[0msmembers\u001b[0m\u001b[0;34m(\u001b[0m\u001b[0;34mb'trans$probeset$'\u001b[0m \u001b[0;34m+\u001b[0m \u001b[0mlist\u001b[0m\u001b[0;34m(\u001b[0m\u001b[0mr\u001b[0m\u001b[0;34m.\u001b[0m\u001b[0msmembers\u001b[0m\u001b[0;34m(\u001b[0m\u001b[0;34m'search$usual$DDX11L1'\u001b[0m\u001b[0;34m)\u001b[0m\u001b[0;34m)\u001b[0m\u001b[0;34m[\u001b[0m\u001b[0;36m0\u001b[0m\u001b[0;34m]\u001b[0m\u001b[0;34m)\u001b[0m\u001b[0;34m\u001b[0m\u001b[0m\n\u001b[0m",
      "\u001b[0;31mNameError\u001b[0m: name 'r' is not defined"
     ]
    }
   ],
   "source": [
    "r.smembers(b'trans$probeset$' + list(r.smembers('search$usual$DDX11L1'))[0])"
   ]
  },
  {
   "cell_type": "code",
   "execution_count": 7,
   "metadata": {
    "collapsed": false
   },
   "outputs": [
    {
     "data": {
      "text/plain": [
       "{b'2648233', b'2648234'}"
      ]
     },
     "execution_count": 7,
     "metadata": {},
     "output_type": "execute_result"
    }
   ],
   "source": [
    "r.smembers(b'trans$probeset$' + b\"2648232\")"
   ]
  },
  {
   "cell_type": "code",
   "execution_count": 8,
   "metadata": {
    "collapsed": false
   },
   "outputs": [
    {
     "data": {
      "text/plain": [
       "b'[2315105, \"chr1\", \"+\", 14150, 14368, 4, 2315100, 4, 5, \"extended\"]'"
      ]
     },
     "execution_count": 8,
     "metadata": {},
     "output_type": "execute_result"
    }
   ],
   "source": [
    "\n",
    "r.hget(b'probeset$metadata', b'2315105')"
   ]
  },
  {
   "cell_type": "code",
   "execution_count": 19,
   "metadata": {
    "collapsed": false
   },
   "outputs": [
    {
     "data": {
      "text/plain": [
       "'extended'"
      ]
     },
     "execution_count": 19,
     "metadata": {},
     "output_type": "execute_result"
    }
   ],
   "source": [
    "probeset = b'2315105'\n",
    "metadataKeys = json.loads(r.get(b'main$metadataKeys').decode(\"ascii\", errors=\"ignore\"))\n",
    "metadataToIndex = {key:i for i, key in enumerate(metadataKeys)}\n",
    "\n",
    "def checkProbesetLevel(probeset):\n",
    "    metadata = json.loads(r.hget(b'probeset$metadata', probeset).decode(\"ascii\", errors=\"ignore\"))\n",
    "    result = metadata[metadataToIndex[\"level\"]]\n",
    "    return result\n",
    "\n",
    "checkProbesetLevel(probeset)"
   ]
  },
  {
   "cell_type": "code",
   "execution_count": 14,
   "metadata": {
    "collapsed": false
   },
   "outputs": [
    {
     "data": {
      "text/plain": [
       "b'[2614449, \"chr3\", \"+\", 25305161, 25305417, 4, 2614448, 186212, 243542, \"full\"]'"
      ]
     },
     "execution_count": 14,
     "metadata": {},
     "output_type": "execute_result"
    }
   ],
   "source": [
    "r.hget(b'probeset$metadata', b'2614449')"
   ]
  },
  {
   "cell_type": "code",
   "execution_count": null,
   "metadata": {
    "collapsed": false
   },
   "outputs": [],
   "source": [
    "dontprint = r.smembers(b'trans$probeset$' + list(r.smembers('search$probeset$3695552'))[0])"
   ]
  },
  {
   "cell_type": "code",
   "execution_count": 15,
   "metadata": {
    "collapsed": false
   },
   "outputs": [
    {
     "data": {
      "text/plain": [
       "{b'2819436'}"
      ]
     },
     "execution_count": 15,
     "metadata": {},
     "output_type": "execute_result"
    }
   ],
   "source": [
    "r.smembers('search$probeset$2819466')"
   ]
  },
  {
   "cell_type": "code",
   "execution_count": null,
   "metadata": {
    "collapsed": false
   },
   "outputs": [],
   "source": [
    "r.smembers(b\"search$trans$usual$\" + b\"2315100\")"
   ]
  },
  {
   "cell_type": "code",
   "execution_count": 16,
   "metadata": {
    "collapsed": false
   },
   "outputs": [
    {
     "data": {
      "text/plain": [
       "{b'---',\n",
       " b'AK093685',\n",
       " b'AK125998',\n",
       " b'BC070227',\n",
       " b'ENST00000437401',\n",
       " b'ENST00000450305',\n",
       " b'ENST00000456328',\n",
       " b'ENST00000507418',\n",
       " b'ENST00000513886',\n",
       " b'ENST00000559159',\n",
       " b'ENST00000562189',\n",
       " b'ENST00000624431',\n",
       " b'GENSCAN00000010471',\n",
       " b'GENSCAN00000017672',\n",
       " b'NONHSAT000001',\n",
       " b'NONHSAT000002',\n",
       " b'NONHSAT000003',\n",
       " b'NONHSAT000004',\n",
       " b'NONHSAT051714',\n",
       " b'NONHSAT051715',\n",
       " b'NONHSAT051716',\n",
       " b'NONHSAT051717',\n",
       " b'NONHSAT051719',\n",
       " b'NONHSAT051720',\n",
       " b'NONHSAT051721',\n",
       " b'NONHSAT073809',\n",
       " b'NONHSAT073810',\n",
       " b'NONHSAT073811',\n",
       " b'NONHSAT073812',\n",
       " b'NONHSAT073813',\n",
       " b'NONHSAT129876',\n",
       " b'NONHSAT129877',\n",
       " b'NONHSAT139258',\n",
       " b'NONHSAT139259',\n",
       " b'NR_024004',\n",
       " b'NR_024005',\n",
       " b'NR_034090',\n",
       " b'NR_045117',\n",
       " b'NR_046018',\n",
       " b'NR_051985',\n",
       " b'NR_051986',\n",
       " b'NR_110561',\n",
       " b'OTTHUMT00000002844',\n",
       " b'OTTHUMT00000058841',\n",
       " b'OTTHUMT00000109036',\n",
       " b'OTTHUMT00000362751',\n",
       " b'OTTHUMT00000417614',\n",
       " b'OTTHUMT00000417615',\n",
       " b'OTTHUMT00000420565',\n",
       " b'TCONS_l2_00010384-XLOC_l2_005087',\n",
       " b'TCONS_l2_00010385-XLOC_l2_005087',\n",
       " b'TCONS_l2_00028588-XLOC_l2_014685',\n",
       " b'TCONS_l2_00030643-XLOC_l2_015857',\n",
       " b'TCONS_l2_00030644-XLOC_l2_015857',\n",
       " b'XM_006726321',\n",
       " b'XM_011543805',\n",
       " b'XM_011543806',\n",
       " b'XM_011543807',\n",
       " b'XM_011543808',\n",
       " b'XM_011543809',\n",
       " b'uc001aaa.3',\n",
       " b'uc002cds.2',\n",
       " b'uc010bqm.2',\n",
       " b'uc010nxq.1',\n",
       " b'uc010nxr.1',\n",
       " b'uc010sdi.1',\n",
       " b'uc010sdj.1',\n",
       " b'uc010utv.1',\n",
       " b'uc010utw.1',\n",
       " b'uc010yxx.1',\n",
       " b'uc011llp.1',\n",
       " b'uc011nad.1',\n",
       " b'uc011ncc.1'}"
      ]
     },
     "execution_count": 16,
     "metadata": {},
     "output_type": "execute_result"
    }
   ],
   "source": [
    "r.smembers(b\"search$trans$weird$\" + b\"2315100\")"
   ]
  },
  {
   "cell_type": "code",
   "execution_count": null,
   "metadata": {
    "collapsed": false
   },
   "outputs": [],
   "source": [
    "r.save()"
   ]
  },
  {
   "cell_type": "code",
   "execution_count": 17,
   "metadata": {
    "collapsed": false
   },
   "outputs": [
    {
     "data": {
      "text/plain": [
       "{b'2315100', b'3642555', b'3642560', b'3642566'}"
      ]
     },
     "execution_count": 17,
     "metadata": {},
     "output_type": "execute_result"
    }
   ],
   "source": [
    "r.smembers('search$weird$OTTHUMT00000058841')"
   ]
  },
  {
   "cell_type": "code",
   "execution_count": null,
   "metadata": {
    "collapsed": true
   },
   "outputs": [],
   "source": []
  }
 ],
 "metadata": {
  "anaconda-cloud": {},
  "kernelspec": {
   "display_name": "Python 3",
   "language": "python",
   "name": "python3"
  },
  "language_info": {
   "codemirror_mode": {
    "name": "ipython",
    "version": 3
   },
   "file_extension": ".py",
   "mimetype": "text/x-python",
   "name": "python",
   "nbconvert_exporter": "python",
   "pygments_lexer": "ipython3",
   "version": "3.6.0"
  }
 },
 "nbformat": 4,
 "nbformat_minor": 0
}
