{
 "cells": [
  {
   "cell_type": "markdown",
   "metadata": {},
   "source": [
    "# Control Centre"
   ]
  },
  {
   "cell_type": "code",
   "execution_count": 1,
   "metadata": {
    "collapsed": true
   },
   "outputs": [],
   "source": [
    "# make sure this doesn't clash with anything else!\n",
    "redisDB = 1\n",
    "\n",
    "# this will wipe out only the data generated previously by this script and owned by the script (i.e. only db=redisDB)\n",
    "wipeDB = True\n",
    "\n",
    "# you can set this up to 2**64 if you want everything read.\n",
    "readNo = 2**64\n",
    "\n",
    "# path to annotation file\n",
    "annotation = \"CEL_files/HuEx-1_0-st-v2.na36.hg19.probeset.csv\"\n",
    "\n",
    "# which line in the file contains the schema\n",
    "schemaLine = 22"
   ]
  },
  {
   "cell_type": "markdown",
   "metadata": {},
   "source": [
    "# This is safe to run: it's just some definitions"
   ]
  },
  {
   "cell_type": "code",
   "execution_count": 2,
   "metadata": {
    "collapsed": false
   },
   "outputs": [],
   "source": [
    "import redis\n",
    "import json\n",
    "\n",
    "r = redis.StrictRedis(host='localhost', port=2050, db=redisDB)\n",
    "\n",
    "metadataKeys = [\"probeset_id\", \"seqname\", \"strand\", \"start\", \"stop\", \"probe_count\", \"transcript_cluster_id\", \"exon_id\", \"psr_id\", \"level\"]\n",
    "\n",
    "def splitOnCommas(line):\n",
    "    return [e[1:-1] for e in line.rstrip().split(\",\")]\n",
    "\n",
    "def processLine(schema, line):\n",
    "    exampleValues = splitOnCommas(line)\n",
    "    mapping = {s : e for s, e in zip(schema, exampleValues)}\n",
    "    usualIDs = set()\n",
    "    weirdIDs = set()\n",
    "    try:\n",
    "        for element in mapping['gene_assignment'].split(\"///\"):\n",
    "            left, right = element.split(\"//\")\n",
    "            usualIDs.add(right.strip())\n",
    "    except Exception:\n",
    "        usualIDs = set()\n",
    "    try:\n",
    "        for element in mapping['mrna_assignment'].split(\"///\"):\n",
    "            weirdID = element.split(\"//\")[0].strip()\n",
    "            weirdIDs.add(weirdID)\n",
    "    except Exception:\n",
    "        weirdIDs = set()\n",
    "    probesetID = mapping[\"probeset_id\"]\n",
    "    transID = mapping[\"transcript_cluster_id\"]\n",
    "    metadata = {key:value for key, value in mapping.items() if key in metadataKeys}\n",
    "    return probesetID, transID, metadata, usualIDs, weirdIDs\n",
    "\n",
    "r.set('main$metadataKeys', json.dumps(metadataKeys))\n",
    "\n",
    "def upsertWeirdID(weirdID, transID):\n",
    "    r.sadd(\"search$weird$\" + weirdID, transID)\n",
    "    r.sadd(\"search$trans$weird$\" + transID, weirdID)\n",
    "    \n",
    "def upsertUsualID(usualID, transID):\n",
    "    r.sadd(\"search$usual$\" + usualID, transID)\n",
    "    r.sadd(\"search$trans$usual$\" + transID, usualID)\n",
    "    \n",
    "def upsertProbesetID(probesetID, transID):\n",
    "    r.sadd(\"search$probeset$\" + probesetID, transID)\n",
    "\n",
    "toInt = set([\"probeset_id\", \"start\", \"stop\", \"probe_count\", \"transcript_cluster_id\", \"exon_id\", \"psr_id\"])\n",
    "\n",
    "def setMetadata(probesetID, metadata):\n",
    "    toDump = []\n",
    "    for key in metadataKeys:\n",
    "        if key in toInt:\n",
    "            try:\n",
    "                toDump.append(int(metadata[key]))\n",
    "            except ValueError:\n",
    "                toDump.append(-1)\n",
    "        else:\n",
    "            toDump.append(metadata[key])\n",
    "    args= [\"probeset$metadata\", probesetID, json.dumps(toDump)]\n",
    "    r.hset(*args)\n",
    "    \n",
    "def upsertTrans(transID, probesetID):\n",
    "    r.sadd(\"trans$probeset$\" + transID, probesetID)\n",
    "\n",
    "def writeToRedis(probesetID, transID, metadata, usualIDs, weirdIDs):\n",
    "    for usualID in usualIDs:\n",
    "        upsertUsualID(usualID, transID)\n",
    "    for weirdID in weirdIDs:\n",
    "        upsertWeirdID(weirdID, transID)\n",
    "    upsertProbesetID(probesetID, transID)\n",
    "    setMetadata(probesetID, metadata)\n",
    "    upsertTrans(transID, probesetID)"
   ]
  },
  {
   "cell_type": "markdown",
   "metadata": {},
   "source": [
    "# Careful -- this can potentially wipe the DB (but will rebuild it afterwards)"
   ]
  },
  {
   "cell_type": "code",
   "execution_count": 3,
   "metadata": {
    "collapsed": false
   },
   "outputs": [
    {
     "ename": "KeyboardInterrupt",
     "evalue": "",
     "output_type": "error",
     "traceback": [
      "\u001b[0;31m---------------------------------------------------------------------------\u001b[0m",
      "\u001b[0;31mKeyboardInterrupt\u001b[0m                         Traceback (most recent call last)",
      "\u001b[0;32m<ipython-input-3-74689d2c55ef>\u001b[0m in \u001b[0;36m<module>\u001b[0;34m()\u001b[0m\n\u001b[1;32m     11\u001b[0m         \u001b[0;32melif\u001b[0m \u001b[0mi\u001b[0m \u001b[0;34m>\u001b[0m \u001b[0mj\u001b[0m\u001b[0;34m:\u001b[0m\u001b[0;34m\u001b[0m\u001b[0m\n\u001b[1;32m     12\u001b[0m             \u001b[0mresultTuple\u001b[0m \u001b[0;34m=\u001b[0m \u001b[0mprocessLine\u001b[0m\u001b[0;34m(\u001b[0m\u001b[0mschema\u001b[0m\u001b[0;34m,\u001b[0m \u001b[0mline\u001b[0m\u001b[0;34m)\u001b[0m\u001b[0;34m\u001b[0m\u001b[0m\n\u001b[0;32m---> 13\u001b[0;31m             \u001b[0mwriteToRedis\u001b[0m\u001b[0;34m(\u001b[0m\u001b[0;34m*\u001b[0m\u001b[0mresultTuple\u001b[0m\u001b[0;34m)\u001b[0m\u001b[0;34m\u001b[0m\u001b[0m\n\u001b[0m\u001b[1;32m     14\u001b[0m         \u001b[0;32mif\u001b[0m \u001b[0mi\u001b[0m \u001b[0;34m==\u001b[0m \u001b[0mj\u001b[0m \u001b[0;34m+\u001b[0m \u001b[0mreadNo\u001b[0m \u001b[0;34m+\u001b[0m \u001b[0;36m1\u001b[0m\u001b[0;34m:\u001b[0m\u001b[0;34m\u001b[0m\u001b[0m\n\u001b[1;32m     15\u001b[0m             \u001b[0;32mbreak\u001b[0m\u001b[0;34m\u001b[0m\u001b[0m\n",
      "\u001b[0;32m<ipython-input-2-84d96465712a>\u001b[0m in \u001b[0;36mwriteToRedis\u001b[0;34m(probesetID, transID, metadata, usualIDs, weirdIDs)\u001b[0m\n\u001b[1;32m     66\u001b[0m         \u001b[0mupsertUsualID\u001b[0m\u001b[0;34m(\u001b[0m\u001b[0musualID\u001b[0m\u001b[0;34m,\u001b[0m \u001b[0mtransID\u001b[0m\u001b[0;34m)\u001b[0m\u001b[0;34m\u001b[0m\u001b[0m\n\u001b[1;32m     67\u001b[0m     \u001b[0;32mfor\u001b[0m \u001b[0mweirdID\u001b[0m \u001b[0;32min\u001b[0m \u001b[0mweirdIDs\u001b[0m\u001b[0;34m:\u001b[0m\u001b[0;34m\u001b[0m\u001b[0m\n\u001b[0;32m---> 68\u001b[0;31m         \u001b[0mupsertWeirdID\u001b[0m\u001b[0;34m(\u001b[0m\u001b[0mweirdID\u001b[0m\u001b[0;34m,\u001b[0m \u001b[0mtransID\u001b[0m\u001b[0;34m)\u001b[0m\u001b[0;34m\u001b[0m\u001b[0m\n\u001b[0m\u001b[1;32m     69\u001b[0m     \u001b[0mupsertProbesetID\u001b[0m\u001b[0;34m(\u001b[0m\u001b[0mprobesetID\u001b[0m\u001b[0;34m,\u001b[0m \u001b[0mtransID\u001b[0m\u001b[0;34m)\u001b[0m\u001b[0;34m\u001b[0m\u001b[0m\n\u001b[1;32m     70\u001b[0m     \u001b[0msetMetadata\u001b[0m\u001b[0;34m(\u001b[0m\u001b[0mprobesetID\u001b[0m\u001b[0;34m,\u001b[0m \u001b[0mmetadata\u001b[0m\u001b[0;34m)\u001b[0m\u001b[0;34m\u001b[0m\u001b[0m\n",
      "\u001b[0;32m<ipython-input-2-84d96465712a>\u001b[0m in \u001b[0;36mupsertWeirdID\u001b[0;34m(weirdID, transID)\u001b[0m\n\u001b[1;32m     35\u001b[0m \u001b[0;32mdef\u001b[0m \u001b[0mupsertWeirdID\u001b[0m\u001b[0;34m(\u001b[0m\u001b[0mweirdID\u001b[0m\u001b[0;34m,\u001b[0m \u001b[0mtransID\u001b[0m\u001b[0;34m)\u001b[0m\u001b[0;34m:\u001b[0m\u001b[0;34m\u001b[0m\u001b[0m\n\u001b[1;32m     36\u001b[0m     \u001b[0mr\u001b[0m\u001b[0;34m.\u001b[0m\u001b[0msadd\u001b[0m\u001b[0;34m(\u001b[0m\u001b[0;34m\"search$weird$\"\u001b[0m \u001b[0;34m+\u001b[0m \u001b[0mweirdID\u001b[0m\u001b[0;34m,\u001b[0m \u001b[0mtransID\u001b[0m\u001b[0;34m)\u001b[0m\u001b[0;34m\u001b[0m\u001b[0m\n\u001b[0;32m---> 37\u001b[0;31m     \u001b[0mr\u001b[0m\u001b[0;34m.\u001b[0m\u001b[0msadd\u001b[0m\u001b[0;34m(\u001b[0m\u001b[0;34m\"search$trans$weird$\"\u001b[0m \u001b[0;34m+\u001b[0m \u001b[0mtransID\u001b[0m\u001b[0;34m,\u001b[0m \u001b[0mweirdID\u001b[0m\u001b[0;34m)\u001b[0m\u001b[0;34m\u001b[0m\u001b[0m\n\u001b[0m\u001b[1;32m     38\u001b[0m \u001b[0;34m\u001b[0m\u001b[0m\n\u001b[1;32m     39\u001b[0m \u001b[0;32mdef\u001b[0m \u001b[0mupsertUsualID\u001b[0m\u001b[0;34m(\u001b[0m\u001b[0musualID\u001b[0m\u001b[0;34m,\u001b[0m \u001b[0mtransID\u001b[0m\u001b[0;34m)\u001b[0m\u001b[0;34m:\u001b[0m\u001b[0;34m\u001b[0m\u001b[0m\n",
      "\u001b[0;32m/home/picrin/anaconda3/lib/python3.6/site-packages/redis/client.py\u001b[0m in \u001b[0;36msadd\u001b[0;34m(self, name, *values)\u001b[0m\n\u001b[1;32m   1492\u001b[0m     \u001b[0;32mdef\u001b[0m \u001b[0msadd\u001b[0m\u001b[0;34m(\u001b[0m\u001b[0mself\u001b[0m\u001b[0;34m,\u001b[0m \u001b[0mname\u001b[0m\u001b[0;34m,\u001b[0m \u001b[0;34m*\u001b[0m\u001b[0mvalues\u001b[0m\u001b[0;34m)\u001b[0m\u001b[0;34m:\u001b[0m\u001b[0;34m\u001b[0m\u001b[0m\n\u001b[1;32m   1493\u001b[0m         \u001b[0;34m\"Add ``value(s)`` to set ``name``\"\u001b[0m\u001b[0;34m\u001b[0m\u001b[0m\n\u001b[0;32m-> 1494\u001b[0;31m         \u001b[0;32mreturn\u001b[0m \u001b[0mself\u001b[0m\u001b[0;34m.\u001b[0m\u001b[0mexecute_command\u001b[0m\u001b[0;34m(\u001b[0m\u001b[0;34m'SADD'\u001b[0m\u001b[0;34m,\u001b[0m \u001b[0mname\u001b[0m\u001b[0;34m,\u001b[0m \u001b[0;34m*\u001b[0m\u001b[0mvalues\u001b[0m\u001b[0;34m)\u001b[0m\u001b[0;34m\u001b[0m\u001b[0m\n\u001b[0m\u001b[1;32m   1495\u001b[0m \u001b[0;34m\u001b[0m\u001b[0m\n\u001b[1;32m   1496\u001b[0m     \u001b[0;32mdef\u001b[0m \u001b[0mscard\u001b[0m\u001b[0;34m(\u001b[0m\u001b[0mself\u001b[0m\u001b[0;34m,\u001b[0m \u001b[0mname\u001b[0m\u001b[0;34m)\u001b[0m\u001b[0;34m:\u001b[0m\u001b[0;34m\u001b[0m\u001b[0m\n",
      "\u001b[0;32m/home/picrin/anaconda3/lib/python3.6/site-packages/redis/client.py\u001b[0m in \u001b[0;36mexecute_command\u001b[0;34m(self, *args, **options)\u001b[0m\n\u001b[1;32m    568\u001b[0m         \u001b[0mpool\u001b[0m \u001b[0;34m=\u001b[0m \u001b[0mself\u001b[0m\u001b[0;34m.\u001b[0m\u001b[0mconnection_pool\u001b[0m\u001b[0;34m\u001b[0m\u001b[0m\n\u001b[1;32m    569\u001b[0m         \u001b[0mcommand_name\u001b[0m \u001b[0;34m=\u001b[0m \u001b[0margs\u001b[0m\u001b[0;34m[\u001b[0m\u001b[0;36m0\u001b[0m\u001b[0;34m]\u001b[0m\u001b[0;34m\u001b[0m\u001b[0m\n\u001b[0;32m--> 570\u001b[0;31m         \u001b[0mconnection\u001b[0m \u001b[0;34m=\u001b[0m \u001b[0mpool\u001b[0m\u001b[0;34m.\u001b[0m\u001b[0mget_connection\u001b[0m\u001b[0;34m(\u001b[0m\u001b[0mcommand_name\u001b[0m\u001b[0;34m,\u001b[0m \u001b[0;34m**\u001b[0m\u001b[0moptions\u001b[0m\u001b[0;34m)\u001b[0m\u001b[0;34m\u001b[0m\u001b[0m\n\u001b[0m\u001b[1;32m    571\u001b[0m         \u001b[0;32mtry\u001b[0m\u001b[0;34m:\u001b[0m\u001b[0;34m\u001b[0m\u001b[0m\n\u001b[1;32m    572\u001b[0m             \u001b[0mconnection\u001b[0m\u001b[0;34m.\u001b[0m\u001b[0msend_command\u001b[0m\u001b[0;34m(\u001b[0m\u001b[0;34m*\u001b[0m\u001b[0margs\u001b[0m\u001b[0;34m)\u001b[0m\u001b[0;34m\u001b[0m\u001b[0m\n",
      "\u001b[0;32m/home/picrin/anaconda3/lib/python3.6/site-packages/redis/connection.py\u001b[0m in \u001b[0;36mget_connection\u001b[0;34m(self, command_name, *keys, **options)\u001b[0m\n\u001b[1;32m    896\u001b[0m         \u001b[0;32mexcept\u001b[0m \u001b[0mIndexError\u001b[0m\u001b[0;34m:\u001b[0m\u001b[0;34m\u001b[0m\u001b[0m\n\u001b[1;32m    897\u001b[0m             \u001b[0mconnection\u001b[0m \u001b[0;34m=\u001b[0m \u001b[0mself\u001b[0m\u001b[0;34m.\u001b[0m\u001b[0mmake_connection\u001b[0m\u001b[0;34m(\u001b[0m\u001b[0;34m)\u001b[0m\u001b[0;34m\u001b[0m\u001b[0m\n\u001b[0;32m--> 898\u001b[0;31m         \u001b[0mself\u001b[0m\u001b[0;34m.\u001b[0m\u001b[0m_in_use_connections\u001b[0m\u001b[0;34m.\u001b[0m\u001b[0madd\u001b[0m\u001b[0;34m(\u001b[0m\u001b[0mconnection\u001b[0m\u001b[0;34m)\u001b[0m\u001b[0;34m\u001b[0m\u001b[0m\n\u001b[0m\u001b[1;32m    899\u001b[0m         \u001b[0;32mreturn\u001b[0m \u001b[0mconnection\u001b[0m\u001b[0;34m\u001b[0m\u001b[0m\n\u001b[1;32m    900\u001b[0m \u001b[0;34m\u001b[0m\u001b[0m\n",
      "\u001b[0;31mKeyboardInterrupt\u001b[0m: "
     ]
    }
   ],
   "source": [
    "if wipeDB:\n",
    "    r.flushdb()\n",
    "with open(annotation) as f:\n",
    "    schema = []\n",
    "    exampleValues = []\n",
    "    j = schemaLine\n",
    "    k = readNo\n",
    "    for i, line in enumerate(f):\n",
    "        if i == j:\n",
    "            schema = splitOnCommas(line)\n",
    "        elif i > j:\n",
    "            resultTuple = processLine(schema, line)\n",
    "            writeToRedis(*resultTuple)\n",
    "        if i == j + readNo + 1:\n",
    "            break"
   ]
  },
  {
   "cell_type": "markdown",
   "metadata": {},
   "source": [
    "# Example usage"
   ]
  },
  {
   "cell_type": "code",
   "execution_count": null,
   "metadata": {
    "collapsed": false
   },
   "outputs": [],
   "source": [
    "r.smembers(b'trans$probeset$' + list(r.smembers(b'search$probeset$2315105'))[0])"
   ]
  },
  {
   "cell_type": "code",
   "execution_count": null,
   "metadata": {
    "collapsed": false
   },
   "outputs": [],
   "source": [
    "r.smembers(b'trans$probeset$2315100')"
   ]
  },
  {
   "cell_type": "code",
   "execution_count": null,
   "metadata": {
    "collapsed": false
   },
   "outputs": [],
   "source": [
    "r.smembers(b'trans$probeset$' + list(r.smembers('search$usual$DDX11L1'))[0])"
   ]
  },
  {
   "cell_type": "code",
   "execution_count": null,
   "metadata": {
    "collapsed": false
   },
   "outputs": [],
   "source": [
    "r.smembers(b'trans$probeset$' + b\"2648232\")"
   ]
  },
  {
   "cell_type": "code",
   "execution_count": null,
   "metadata": {
    "collapsed": false
   },
   "outputs": [],
   "source": [
    "\n",
    "r.hget(b'probeset$metadata', b'2315105')"
   ]
  },
  {
   "cell_type": "code",
   "execution_count": null,
   "metadata": {
    "collapsed": false
   },
   "outputs": [],
   "source": [
    "probeset = b'2315105'\n",
    "metadataKeys = json.loads(r.get(b'main$metadataKeys').decode(\"ascii\", errors=\"ignore\"))\n",
    "metadataToIndex = {key:i for i, key in enumerate(metadataKeys)}\n",
    "\n",
    "def checkProbesetLevel(probeset):\n",
    "    metadata = json.loads(r.hget(b'probeset$metadata', probeset).decode(\"ascii\", errors=\"ignore\"))\n",
    "    result = metadata[metadataToIndex[\"level\"]]\n",
    "    return result\n",
    "\n",
    "checkProbesetLevel(probeset)"
   ]
  },
  {
   "cell_type": "code",
   "execution_count": 4,
   "metadata": {
    "collapsed": false
   },
   "outputs": [
    {
     "data": {
      "text/plain": [
       "b'[2614449, \"chr3\", \"+\", 25305161, 25305417, 4, 2614448, 186212, 243542, \"full\"]'"
      ]
     },
     "execution_count": 4,
     "metadata": {},
     "output_type": "execute_result"
    }
   ],
   "source": [
    "r.hget(b'probeset$metadata', b'2614449')"
   ]
  },
  {
   "cell_type": "code",
   "execution_count": 5,
   "metadata": {
    "collapsed": false
   },
   "outputs": [],
   "source": [
    "dontprint = r.smembers(b'trans$probeset$' + list(r.smembers('search$probeset$3695552'))[0])"
   ]
  },
  {
   "cell_type": "code",
   "execution_count": 6,
   "metadata": {
    "collapsed": false
   },
   "outputs": [
    {
     "data": {
      "text/plain": [
       "{b'2819436'}"
      ]
     },
     "execution_count": 6,
     "metadata": {},
     "output_type": "execute_result"
    }
   ],
   "source": [
    "r.smembers('search$probeset$2819466')"
   ]
  },
  {
   "cell_type": "code",
   "execution_count": 7,
   "metadata": {
    "collapsed": false
   },
   "outputs": [
    {
     "data": {
      "text/plain": [
       "{b'DDX11L1'}"
      ]
     },
     "execution_count": 7,
     "metadata": {},
     "output_type": "execute_result"
    }
   ],
   "source": [
    "r.smembers(b\"search$trans$usual$\" + b\"2315100\")"
   ]
  },
  {
   "cell_type": "code",
   "execution_count": 8,
   "metadata": {
    "collapsed": false
   },
   "outputs": [
    {
     "data": {
      "text/plain": [
       "{b'---',\n",
       " b'AK093685',\n",
       " b'AK125998',\n",
       " b'BC070227',\n",
       " b'ENST00000437401',\n",
       " b'ENST00000450305',\n",
       " b'ENST00000456328',\n",
       " b'ENST00000507418',\n",
       " b'ENST00000513886',\n",
       " b'ENST00000559159',\n",
       " b'ENST00000562189',\n",
       " b'ENST00000624431',\n",
       " b'GENSCAN00000010471',\n",
       " b'GENSCAN00000017672',\n",
       " b'NONHSAT000001',\n",
       " b'NONHSAT000002',\n",
       " b'NONHSAT000003',\n",
       " b'NONHSAT000004',\n",
       " b'NONHSAT051714',\n",
       " b'NONHSAT051715',\n",
       " b'NONHSAT051716',\n",
       " b'NONHSAT051717',\n",
       " b'NONHSAT051719',\n",
       " b'NONHSAT051720',\n",
       " b'NONHSAT051721',\n",
       " b'NONHSAT073809',\n",
       " b'NONHSAT073810',\n",
       " b'NONHSAT073811',\n",
       " b'NONHSAT073812',\n",
       " b'NONHSAT073813',\n",
       " b'NONHSAT129876',\n",
       " b'NONHSAT129877',\n",
       " b'NONHSAT139258',\n",
       " b'NONHSAT139259',\n",
       " b'NR_024004',\n",
       " b'NR_024005',\n",
       " b'NR_034090',\n",
       " b'NR_045117',\n",
       " b'NR_046018',\n",
       " b'NR_051985',\n",
       " b'NR_051986',\n",
       " b'NR_110561',\n",
       " b'OTTHUMT00000002844',\n",
       " b'OTTHUMT00000058841',\n",
       " b'OTTHUMT00000109036',\n",
       " b'OTTHUMT00000362751',\n",
       " b'OTTHUMT00000417614',\n",
       " b'OTTHUMT00000417615',\n",
       " b'OTTHUMT00000420565',\n",
       " b'TCONS_l2_00010384-XLOC_l2_005087',\n",
       " b'TCONS_l2_00010385-XLOC_l2_005087',\n",
       " b'TCONS_l2_00028588-XLOC_l2_014685',\n",
       " b'TCONS_l2_00030643-XLOC_l2_015857',\n",
       " b'TCONS_l2_00030644-XLOC_l2_015857',\n",
       " b'XM_006726321',\n",
       " b'XM_011543805',\n",
       " b'XM_011543806',\n",
       " b'XM_011543807',\n",
       " b'XM_011543808',\n",
       " b'XM_011543809',\n",
       " b'uc001aaa.3',\n",
       " b'uc002cds.2',\n",
       " b'uc010bqm.2',\n",
       " b'uc010nxq.1',\n",
       " b'uc010nxr.1',\n",
       " b'uc010sdi.1',\n",
       " b'uc010sdj.1',\n",
       " b'uc010utv.1',\n",
       " b'uc010utw.1',\n",
       " b'uc010yxx.1',\n",
       " b'uc011llp.1',\n",
       " b'uc011nad.1',\n",
       " b'uc011ncc.1'}"
      ]
     },
     "execution_count": 8,
     "metadata": {},
     "output_type": "execute_result"
    }
   ],
   "source": [
    "r.smembers(b\"search$trans$weird$\" + b\"2315100\")"
   ]
  },
  {
   "cell_type": "code",
   "execution_count": 9,
   "metadata": {
    "collapsed": false
   },
   "outputs": [
    {
     "data": {
      "text/plain": [
       "True"
      ]
     },
     "execution_count": 9,
     "metadata": {},
     "output_type": "execute_result"
    }
   ],
   "source": [
    "r.save()"
   ]
  },
  {
   "cell_type": "code",
   "execution_count": 10,
   "metadata": {
    "collapsed": false
   },
   "outputs": [
    {
     "data": {
      "text/plain": [
       "{b'2315100', b'3642555', b'3642560', b'3642566'}"
      ]
     },
     "execution_count": 10,
     "metadata": {},
     "output_type": "execute_result"
    }
   ],
   "source": [
    "r.smembers('search$weird$OTTHUMT00000058841')"
   ]
  },
  {
   "cell_type": "code",
   "execution_count": null,
   "metadata": {
    "collapsed": true
   },
   "outputs": [],
   "source": []
  }
 ],
 "metadata": {
  "anaconda-cloud": {},
  "kernelspec": {
   "display_name": "Python 3",
   "language": "python",
   "name": "python3"
  },
  "language_info": {
   "codemirror_mode": {
    "name": "ipython",
    "version": 3
   },
   "file_extension": ".py",
   "mimetype": "text/x-python",
   "name": "python",
   "nbconvert_exporter": "python",
   "pygments_lexer": "ipython3",
   "version": "3.6.0"
  }
 },
 "nbformat": 4,
 "nbformat_minor": 0
}
