{
 "cells": [
  {
   "cell_type": "markdown",
   "metadata": {},
   "source": [
    "# Progress Report\n",
    "\n",
    "## Alternative Splicing in MD\n",
    "\n",
    "### Technical debt\n",
    "\n",
    "I have rewritten the entire Alternative Splicing (AS) pipeline using redis instead of python's data-structures to store all the data. This work was necessary, for 3 reasons:\n",
    "\n",
    "1. Because the old pipeline accrued a lot of technical debt since I wrote it in December and I was loosing confidence in its correctness, even more so I and John we wanted to support a whole-genome AS analysis.\n",
    "2. I was running out of RAM with the old pipeline (I have 16 GB of RAM in the current laptop, and in the one I'll have in the future, and the pipeline was using about 15 GB out of that, and I was getting worried about the dread of swapping).\n",
    "3. The old pipeline required about 15 minutes of data loading before being usable for anything, which wasn't good for productivity.\n",
    "\n",
    "The new pipeline uses 3x less RAM, and loads 60x faster. Additional gain is, because I'm using redis, it would be very easy to share the pipeline as a web-service, and I might put a few days of work into that later on.\n",
    "\n",
    "### A powerful model to detect Alternative Splicing in Myotonic Dystrophy.\n",
    "\n",
    "I have designed and implemented a powerful model to detect Alternative Splicing in Myotonic Dystrophy. Here's how the model works.\n",
    "\n",
    "#### Definition 1. Product Distribution with n degrees of freedom.\n",
    "\n",
    "Let $X$ be a random variable with $$X \\sim \\frac{(-log(x))^{n-1}}{(n-1)!}$$ Then, let us say that X follows a Product Distribution with $n$ degrees of freedom, or $$X \\sim Prod(n)$$.\n",
    "\n",
    "#### Lemma 1\n",
    "\n",
    "Let $X_{1}, X_{2}, ..., X_{n}$ be Identically and Indpendently Distributed (IID) random variables with $$X_{i} \\sim Uniform(0, 1)$$ Then we have that $$\\prod_{i=1}^{i=n} X_{i} \\sim Prod(n)$$\n",
    "\n",
    "##### Proof of Lemma 1\n",
    "\n",
    "TODO\n",
    "\n",
    "#### Definition of AS Statistic\n",
    "\n",
    "#### Estimator of the whole-gene expression\n",
    "\n",
    "#### Gain in power\n",
    "\n",
    "###\n"
   ]
  },
  {
   "cell_type": "code",
   "execution_count": null,
   "metadata": {
    "collapsed": true
   },
   "outputs": [],
   "source": []
  }
 ],
 "metadata": {
  "kernelspec": {
   "display_name": "Python [Root]",
   "language": "python",
   "name": "Python [Root]"
  },
  "language_info": {
   "codemirror_mode": {
    "name": "ipython",
    "version": 3
   },
   "file_extension": ".py",
   "mimetype": "text/x-python",
   "name": "python",
   "nbconvert_exporter": "python",
   "pygments_lexer": "ipython3",
   "version": "3.5.2"
  }
 },
 "nbformat": 4,
 "nbformat_minor": 0
}
