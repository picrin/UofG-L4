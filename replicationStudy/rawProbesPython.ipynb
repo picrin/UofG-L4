{
 "cells": [
  {
   "cell_type": "markdown",
   "metadata": {},
   "source": [
    "# Drilling into alternative splicing in MD\n",
    "\n",
    "I decided to follow the following plan in order to see if our data supports previous evidence of alternative splicing in MD:\n",
    "\n",
    "1. Check if my CEL file parser gives comparable probe-level results with oligo.\n",
    "2. Take the list of genes from Nakamori13 (\"Splicing biomarkers of disease severity in myotonic dystrophy.\"), the paper Darren passed on to me.\n",
    "3. Check if the genes identified by Nakamori13 come up as significant in our analysis as well.\n",
    "4. Build a hierchical model to check how significant they are.\n",
    "\n",
    "Unfortunately, I got pretty bogged down on the first step. After a few days of debugging it turned out that there was a bug in the way I was translating coordinates from the annotation file to the coordinates on the chip.\n",
    "\n",
    "Luckily this doesn't affect the previous work on ISEs (we didn't use annotations there). It does invalidate the preliminary result I was showing you about alternative splicing of the fifth exon in TNNT2 (I would have beeen reading wrong coordinates).\n",
    "\n",
    "This is now fixed, and I will carry on with the rest of the plan this week.\n",
    "\n",
    "\n",
    "# New datasets for working with ISEs\n",
    "\n",
    "I and John had a look at the doping dataset. While interesting, we came to the conclusion this may not be the best dataset to be looking at: the microarrays used for that research were of completely different type, and might require quite a few changes to the analysis pipeline.\n",
    "\n",
    "However, it appears that there is a great number of microarray data available online at GEO and ArrayExpress, and we expect some of this to both:\n",
    "\n",
    "- have many changing genes\n",
    "- use HuEx ST1, which we can support out of the box.\n",
    "\n",
    "The plan is to take as many of these datasets as feasible and run the pipeline on them."
   ]
  },
  {
   "cell_type": "code",
   "execution_count": 26,
   "metadata": {
    "collapsed": false
   },
   "outputs": [],
   "source": [
    "import Bio.Affy.CelFile as CELFile\n",
    "import os.path\n",
    "import sys, re"
   ]
  },
  {
   "cell_type": "code",
   "execution_count": 2,
   "metadata": {
    "collapsed": false
   },
   "outputs": [],
   "source": [
    "with open(os.path.join(\"CEL_files\", \"111747589_B.CEL\"), \"rb\") as f:\n",
    "    array = CELFile.read_v4(f)"
   ]
  },
  {
   "cell_type": "code",
   "execution_count": 3,
   "metadata": {
    "collapsed": false
   },
   "outputs": [],
   "source": [
    "contextDict = {}\n",
    "CEL_PATH = \"CEL_files\"\n",
    "with open(os.path.join(CEL_PATH, \"HuEx-1_0-st-v2.text.cdf\")) as f:\n",
    "    lines = f.readlines()\n",
    "    context = None\n",
    "    for line in lines:\n",
    "        line = line.rstrip()\n",
    "        if line:\n",
    "            c1 = line[0] == \"[\"\n",
    "            c2 = \"Unit\" in line\n",
    "            c3 = \"_Block1]\" in line\n",
    "            checkConds = [c1, c2, c3]\n",
    "            if all(checkConds):\n",
    "                context = line[len(\"Unit\") + 1: -1 * len(\"_Block1\") - 1]\n",
    "                if context in contextDict:\n",
    "                    print(line)\n",
    "                    raise ValueError\n",
    "                else:\n",
    "                    contextDict[context] = {}\n",
    "            elif context is not None:\n",
    "                eqPos = line.find(\"=\")\n",
    "                key = line[:eqPos]\n",
    "                matchedList = re.findall(\"Cell[1-9]+\", key)\n",
    "                if matchedList:\n",
    "                    value = line[eqPos + 1:].split(\"\\t\")\n",
    "                    contextDict[context][key] = value[:3]\n",
    "        else:\n",
    "            context = None"
   ]
  },
  {
   "cell_type": "code",
   "execution_count": null,
   "metadata": {
    "collapsed": true
   },
   "outputs": [],
   "source": [
    "intensityBySeqDict = {}"
   ]
  },
  {
   "cell_type": "code",
   "execution_count": 20,
   "metadata": {
    "collapsed": true
   },
   "outputs": [],
   "source": [
    "def intensityBySeq(record, contextDict, seq):\n",
    "    if not intensityBySeqDict:\n",
    "        for _, innerDict in contextDict.items():\n",
    "            for _, triple in innerDict.items():\n",
    "                try:\n",
    "                    intensityBySeqDict[triple[2]] = (int(triple[0]), int(triple[1]))\n",
    "                except TypeError:\n",
    "                    pass\n",
    "    return extractIntensity(record, intensityBySeqDict[seq])"
   ]
  },
  {
   "cell_type": "code",
   "execution_count": 21,
   "metadata": {
    "collapsed": true
   },
   "outputs": [],
   "source": [
    "def extractIntensity(record, coord):\n",
    "    coord = coord[::-1]\n",
    "    return record.intensities[coord]"
   ]
  },
  {
   "cell_type": "markdown",
   "metadata": {},
   "source": [
    "## This should be the same as in the \"rawProbesR\""
   ]
  },
  {
   "cell_type": "code",
   "execution_count": 27,
   "metadata": {
    "collapsed": false
   },
   "outputs": [
    {
     "name": "stdout",
     "output_type": "stream",
     "text": [
      "103.0\n",
      "188.0\n",
      "42.0\n",
      "189.0\n",
      "1072.0\n",
      "886.0\n"
     ]
    }
   ],
   "source": [
    "import os\n",
    "for seq in [\"ACCTTATACCAGTAGCAGTCGTACC\", \"CGGCCTACGACATAGGTCCGAGACA\", \"AGAAACTAATAATACACCTGGTGTT\", \"CAGTACGGGCAGCTACAAAACCCAT\", \"AGTCCCACGTGTCGGCGTTGCCGTT\", \"TGCACAGCCTACTGCCACTCGAGTT\"]:\n",
    "    print(intensityBySeq(array, contextDict, seq))"
   ]
  },
  {
   "cell_type": "code",
   "execution_count": null,
   "metadata": {
    "collapsed": true
   },
   "outputs": [],
   "source": []
  }
 ],
 "metadata": {
  "anaconda-cloud": {},
  "kernelspec": {
   "display_name": "Python [Root]",
   "language": "python",
   "name": "Python [Root]"
  },
  "language_info": {
   "codemirror_mode": {
    "name": "ipython",
    "version": 3
   },
   "file_extension": ".py",
   "mimetype": "text/x-python",
   "name": "python",
   "nbconvert_exporter": "python",
   "pygments_lexer": "ipython3",
   "version": "3.5.2"
  }
 },
 "nbformat": 4,
 "nbformat_minor": 0
}
