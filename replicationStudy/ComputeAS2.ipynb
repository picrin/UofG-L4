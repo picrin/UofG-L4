{
 "cells": [
  {
   "cell_type": "markdown",
   "metadata": {},
   "source": [
    "# Alternative Splicing in MD"
   ]
  },
  {
   "cell_type": "code",
   "execution_count": 4,
   "metadata": {
    "collapsed": false
   },
   "outputs": [],
   "source": [
    "from transvis.io import *\n",
    "from transvis.alterSplice import *\n",
    "from transvis.utils import *\n",
    "initDB()"
   ]
  },
  {
   "cell_type": "code",
   "execution_count": 9,
   "metadata": {
    "collapsed": true
   },
   "outputs": [],
   "source": [
    "# you can set this up to 2**64 if you want everything processed, or less for debugging.\n",
    "processedNo = 2**64"
   ]
  },
  {
   "cell_type": "code",
   "execution_count": 10,
   "metadata": {
    "collapsed": true
   },
   "outputs": [],
   "source": [
    "from intervaltree import Interval, IntervalTree\n",
    "intervaltrees = {}\n"
   ]
  },
  {
   "cell_type": "markdown",
   "metadata": {},
   "source": [
    "# We're going to iterate through all probesets, and retrive from the annotation metadata corresponding to each probeset the probeset location, expressed in genomic coordinates with GRCh37 as the reference genome."
   ]
  },
  {
   "cell_type": "markdown",
   "metadata": {},
   "source": [
    "## Takes about 5 minutes"
   ]
  },
  {
   "cell_type": "code",
   "execution_count": 10,
   "metadata": {
    "collapsed": false
   },
   "outputs": [],
   "source": [
    "currentIter = transIter()\n",
    "\n",
    "allchr = set()\n",
    "\n",
    "# ml := metadataLookup\n",
    "ml = {key : value for key, value in zip(metadataKeys(), range(len(metadataKeys())))}\n",
    "for _, transID in zip(range(processedNo), currentIter):\n",
    "    probesets = transToProbeset(transID)\n",
    "    for probeset in probesets:\n",
    "        metadata = probesetAnnotationMetadata(probeset)\n",
    "        seqname = metadata[ml['seqname']]\n",
    "        strand = metadata[ml['strand']]\n",
    "        seqname += strand\n",
    "        if re.findall(\"^chr*\", seqname):\n",
    "            allchr.add(seqname)\n",
    "            if seqname not in intervaltrees:\n",
    "                t = IntervalTree()\n",
    "                intervaltrees[seqname] = t\n",
    "            else:\n",
    "                t = intervaltrees[seqname]\n",
    "            start = metadata[ml['start']]\n",
    "            stop = metadata[ml['stop']]\n",
    "            try:\n",
    "                start = int(start)\n",
    "                stop = int(stop)\n",
    "            except ValueError:\n",
    "                continue\n",
    "            if start == 0 or stop == 0:\n",
    "                continue\n",
    "            t[start:stop] = probeset"
   ]
  },
  {
   "cell_type": "markdown",
   "metadata": {},
   "source": [
    "# Then, we'll iterate through all genecode transcripts, and use the Binary Interval Tree, to find those probesets, which are strictly contained within exons belonging to these transcripts."
   ]
  },
  {
   "cell_type": "markdown",
   "metadata": {},
   "source": [
    "## Takes another 5 minutes"
   ]
  },
  {
   "cell_type": "code",
   "execution_count": 59,
   "metadata": {
    "collapsed": false,
    "scrolled": true
   },
   "outputs": [],
   "source": [
    "for c in allchr:\n",
    "    c = c[:-1]\n",
    "    for genecodeI, genecode in zip(range(processedNo), genecodeIter(c)):\n",
    "        for transcriptI, transcript in enumerate(genecode):\n",
    "            typ = transcript[0]\n",
    "            chromosome = transcript[1]\n",
    "            suffix = transcript[2]\n",
    "            seqname = chromosome + suffix\n",
    "            if typ == \"exon\":\n",
    "                key = transcript[-1]\n",
    "                start = int(transcript[3])\n",
    "                stop = int(transcript[4])\n",
    "                setGenecodeGenenameBoundary(key, chromosome, suffix, start, stop)\n",
    "                result = intervaltrees[seqname].search(start, stop, strict=True)\n",
    "                if result:\n",
    "                    for interval in result:\n",
    "                        probeset = interval.data\n",
    "                        setGenecodeGenenameToProbeset(key, probeset)\n"
   ]
  },
  {
   "cell_type": "markdown",
   "metadata": {},
   "source": [
    "# For example all MBNL1's exons strictly contain the following probesets."
   ]
  },
  {
   "cell_type": "code",
   "execution_count": 46,
   "metadata": {
    "collapsed": false
   },
   "outputs": [
    {
     "data": {
      "text/plain": [
       "{'2648142',\n",
       " '2648143',\n",
       " '2648146',\n",
       " '2648147',\n",
       " '2648158',\n",
       " '2648159',\n",
       " '2648160',\n",
       " '2648161',\n",
       " '2648167',\n",
       " '2648174',\n",
       " '2648175',\n",
       " '2648178',\n",
       " '2648180',\n",
       " '2648181',\n",
       " '2648184',\n",
       " '2648185',\n",
       " '2648186',\n",
       " '2648194',\n",
       " '2648197',\n",
       " '2648199',\n",
       " '2648200',\n",
       " '2648201',\n",
       " '2648202',\n",
       " '2648203',\n",
       " '2648204',\n",
       " '2648205'}"
      ]
     },
     "execution_count": 46,
     "metadata": {},
     "output_type": "execute_result"
    }
   ],
   "source": [
    "from transvis.io import *\n",
    "from transvis.alterSplice import *\n",
    "from transvis.utils import *\n",
    "initDB()\n",
    "getGenecodeGenenameToProbeset(\"MBNL1\")"
   ]
  },
  {
   "cell_type": "markdown",
   "metadata": {},
   "source": [
    "# For the visualisation tool we also record the genomic coordinates of each gene\n"
   ]
  },
  {
   "cell_type": "code",
   "execution_count": 47,
   "metadata": {
    "collapsed": false
   },
   "outputs": [
    {
     "data": {
      "text/plain": [
       "[151961617, 152183569, 'chr3', '+']"
      ]
     },
     "execution_count": 47,
     "metadata": {},
     "output_type": "execute_result"
    }
   ],
   "source": [
    "getGenecodeGenenameBoundary(\"MBNL1\")"
   ]
  },
  {
   "cell_type": "code",
   "execution_count": 48,
   "metadata": {
    "collapsed": false,
    "scrolled": false
   },
   "outputs": [],
   "source": [
    "genecodeHGNC = set(d(i).split(\"$\")[-1] for i in redisConn[\"genecode\"].keys(\"genename$probeset$*\"))"
   ]
  },
  {
   "cell_type": "code",
   "execution_count": 49,
   "metadata": {
    "collapsed": true
   },
   "outputs": [],
   "source": [
    "properHGNC = set()"
   ]
  },
  {
   "cell_type": "code",
   "execution_count": 50,
   "metadata": {
    "collapsed": false
   },
   "outputs": [],
   "source": [
    "with open(\"CEL_files/HGNC_names.txt\") as f:\n",
    "    for line in f:\n",
    "        properHGNC.add(line.strip())"
   ]
  },
  {
   "cell_type": "markdown",
   "metadata": {},
   "source": [
    "# The file HGNC_names.txt contains all legal HGNC names, as per the HGNC website. As one can see, there are 40938 genes in total in this reference database"
   ]
  },
  {
   "cell_type": "code",
   "execution_count": 51,
   "metadata": {
    "collapsed": false
   },
   "outputs": [
    {
     "data": {
      "text/plain": [
       "40938"
      ]
     },
     "execution_count": 51,
     "metadata": {},
     "output_type": "execute_result"
    }
   ],
   "source": [
    "len(properHGNC)"
   ]
  },
  {
   "cell_type": "markdown",
   "metadata": {},
   "source": [
    "# Our method of using genecode identifies over 43 thousand genes."
   ]
  },
  {
   "cell_type": "code",
   "execution_count": 52,
   "metadata": {
    "collapsed": false
   },
   "outputs": [
    {
     "data": {
      "text/plain": [
       "43705"
      ]
     },
     "execution_count": 52,
     "metadata": {},
     "output_type": "execute_result"
    }
   ],
   "source": [
    "len(genecodeHGNC)"
   ]
  },
  {
   "cell_type": "markdown",
   "metadata": {},
   "source": [
    "# Let us narrow down to the genes at the intersection of these gene lists. (potentialy caveat: genecode could be using a slightly different nomenclature...)"
   ]
  },
  {
   "cell_type": "code",
   "execution_count": 53,
   "metadata": {
    "collapsed": false
   },
   "outputs": [],
   "source": [
    "genesToInvest = properHGNC.intersection(genecodeHGNC)"
   ]
  },
  {
   "cell_type": "code",
   "execution_count": 54,
   "metadata": {
    "collapsed": false
   },
   "outputs": [
    {
     "data": {
      "text/plain": [
       "28898"
      ]
     },
     "execution_count": 54,
     "metadata": {},
     "output_type": "execute_result"
    }
   ],
   "source": [
    "len(genesToInvest)"
   ]
  },
  {
   "cell_type": "code",
   "execution_count": 55,
   "metadata": {
    "collapsed": false
   },
   "outputs": [],
   "source": [
    "distribution = [len(getGenecodeGenenameToProbeset(i)) for i in genesToInvest]"
   ]
  },
  {
   "cell_type": "code",
   "execution_count": 56,
   "metadata": {
    "collapsed": false
   },
   "outputs": [],
   "source": [
    "%matplotlib inline\n",
    "\n",
    "import matplotlib\n",
    "import numpy as np\n",
    "import matplotlib.pyplot as plt"
   ]
  },
  {
   "cell_type": "code",
   "execution_count": 57,
   "metadata": {
    "collapsed": false
   },
   "outputs": [
    {
     "data": {
      "text/plain": [
       "1"
      ]
     },
     "execution_count": 57,
     "metadata": {},
     "output_type": "execute_result"
    }
   ],
   "source": [
    "len([i for i in distribution if i > 400])"
   ]
  },
  {
   "cell_type": "code",
   "execution_count": 58,
   "metadata": {
    "collapsed": false
   },
   "outputs": [
    {
     "name": "stdout",
     "output_type": "stream",
     "text": [
      "TTN\n"
     ]
    }
   ],
   "source": [
    "for i in genesToInvest:\n",
    "    probesets = getGenecodeGenenameToProbeset(i)\n",
    "    if len(probesets) > 400:\n",
    "        print(i)"
   ]
  },
  {
   "cell_type": "markdown",
   "metadata": {},
   "source": [
    "# That for example is a histogram of probesets/gene. The gene with the highest number of probesets is titin (which is actually a very interesting gene/protein, and a sensible answer)"
   ]
  },
  {
   "cell_type": "code",
   "execution_count": 59,
   "metadata": {
    "collapsed": false
   },
   "outputs": [
    {
     "data": {
      "image/png": "[encoded data removed]",
      "text/plain": [
       "<matplotlib.figure.Figure at 0x7fa972795400>"
      ]
     },
     "metadata": {},
     "output_type": "display_data"
    }
   ],
   "source": [
    "ax1 = plt.subplot()\n",
    "_ = ax1.hist(distribution, bins=100)"
   ]
  },
  {
   "cell_type": "code",
   "execution_count": 60,
   "metadata": {
    "collapsed": true
   },
   "outputs": [],
   "source": [
    "# We can zoom in to discover how many genes have outragesouly few probes (I suggest we resign from all genes with < 4 probes)."
   ]
  },
  {
   "cell_type": "code",
   "execution_count": 61,
   "metadata": {
    "collapsed": false
   },
   "outputs": [
    {
     "data": {
      "image/png": "[encoded data removed]",
      "text/plain": [
       "<matplotlib.figure.Figure at 0x7fa97bb6a668>"
      ]
     },
     "metadata": {},
     "output_type": "display_data"
    }
   ],
   "source": [
    "ax1 = plt.subplot()\n",
    "ax1.hist(distribution, bins=1000)\n",
    "_ = ax1.set_xlim([0, 10])"
   ]
  },
  {
   "cell_type": "markdown",
   "metadata": {},
   "source": [
    "# Just to be sure, let's check how large are the \"windows\" we're going to look at our genes through"
   ]
  },
  {
   "cell_type": "code",
   "execution_count": 62,
   "metadata": {
    "collapsed": false
   },
   "outputs": [],
   "source": [
    "windows = [(gene, getGenecodeGenenameBoundary(gene)) for gene in genesToInvest]"
   ]
  },
  {
   "cell_type": "code",
   "execution_count": 63,
   "metadata": {
    "collapsed": false
   },
   "outputs": [],
   "source": [
    "windowsSize = [(stop - start, start, stop, gene, chromosome, strand) for gene, (start, stop, chromosome, strand) in windows]"
   ]
  },
  {
   "cell_type": "code",
   "execution_count": 64,
   "metadata": {
    "collapsed": true
   },
   "outputs": [],
   "source": [
    "windowsSize.sort()"
   ]
  },
  {
   "cell_type": "markdown",
   "metadata": {},
   "source": [
    "# Then, let's check if there are any genes, which were incorrectly assigned very large windows."
   ]
  },
  {
   "cell_type": "code",
   "execution_count": 65,
   "metadata": {
    "collapsed": false
   },
   "outputs": [
    {
     "data": {
      "text/plain": [
       "[(1697917, 78636716, 80334633, 'NRXN3', 'chr14', '+'),\n",
       " (1743269, 75955846, 77699115, 'ROBO2', 'chr3', '+'),\n",
       " (1783651, 67672276, 69455927, 'CTNNA3', 'chr10', '-'),\n",
       " (1825171, 55562531, 57387702, 'PCDH15', 'chr10', '-'),\n",
       " (1900278, 140988992, 142889270, 'LRP1B', 'chr2', '-'),\n",
       " (1987242, 64429876, 66417118, 'EYS', 'chr6', '-'),\n",
       " (2057827, 13976015, 16033842, 'MACROD2', 'chr20', '+'),\n",
       " (2059619, 2792875, 4852494, 'CSMD1', 'chr8', '-'),\n",
       " (2172911, 83166055, 85338966, 'DLG2', 'chr11', '-'),\n",
       " (2241764, 31115794, 33357558, 'DMD', 'chrX', '-'),\n",
       " (2298477, 8314246, 10612723, 'PTPRD', 'chr9', '-'),\n",
       " (2304996, 145813094, 148118090, 'CNTNAP2', 'chr7', '+'),\n",
       " (24961288, 29558488, 54519776, 'LINC01598', 'chr12', '-'),\n",
       " (95897243, 59208305, 155105548, 'DPH3P2', 'chrX', '+'),\n",
       " (95897327, 59311663, 155208990, 'ELOCP24', 'chrX', '-'),\n",
       " (95897873, 59318041, 155215914, 'TRPC6P', 'chrX', '-'),\n",
       " (95901878, 59353497, 155255375, 'WASH6P', 'chrX', '+'),\n",
       " (95910230, 59330252, 155240482, 'IL9R', 'chrX', '+'),\n",
       " (95911641, 59100480, 155012121, 'SPRY3', 'chrX', '+'),\n",
       " (95959471, 59213962, 155173433, 'VAMP7', 'chrX', '+')]"
      ]
     },
     "execution_count": 65,
     "metadata": {},
     "output_type": "execute_result"
    }
   ],
   "source": [
    "windowsSize[-20:]"
   ]
  },
  {
   "cell_type": "markdown",
   "metadata": {},
   "source": [
    "# Some reading suggests that everything larger than CNTNAP2 is due to errors in our annotation methodology or genecode and should not be included. (LINC01598 maybe isn't, but it's non-coding anyway)"
   ]
  },
  {
   "cell_type": "code",
   "execution_count": 66,
   "metadata": {
    "collapsed": true
   },
   "outputs": [],
   "source": [
    "maxWindowSizeThreshold = 5000000"
   ]
  },
  {
   "cell_type": "code",
   "execution_count": 67,
   "metadata": {
    "collapsed": true
   },
   "outputs": [],
   "source": [
    "minProbesetSize = 4"
   ]
  },
  {
   "cell_type": "code",
   "execution_count": 68,
   "metadata": {
    "collapsed": true
   },
   "outputs": [],
   "source": [
    "cleanedUpGenes = []"
   ]
  },
  {
   "cell_type": "code",
   "execution_count": 69,
   "metadata": {
    "collapsed": false
   },
   "outputs": [],
   "source": [
    "for gene in genesToInvest:\n",
    "    start, stop, chromosome, strand = getGenecodeGenenameBoundary(gene)\n",
    "    if stop - start > maxWindowSizeThreshold:\n",
    "        continue\n",
    "    if len(getGenecodeGenenameToProbeset(gene)) < minProbesetSize:\n",
    "        continue\n",
    "    cleanedUpGenes.append(gene)"
   ]
  },
  {
   "cell_type": "markdown",
   "metadata": {},
   "source": [
    "# This leaves us with 23827 genes to look at"
   ]
  },
  {
   "cell_type": "code",
   "execution_count": 70,
   "metadata": {
    "collapsed": false
   },
   "outputs": [
    {
     "data": {
      "text/plain": [
       "23827"
      ]
     },
     "execution_count": 70,
     "metadata": {},
     "output_type": "execute_result"
    }
   ],
   "source": [
    "len(cleanedUpGenes)"
   ]
  },
  {
   "cell_type": "markdown",
   "metadata": {},
   "source": [
    "# These functions are adapted from the earlier version of the pipeline."
   ]
  },
  {
   "cell_type": "code",
   "execution_count": 334,
   "metadata": {
    "collapsed": false
   },
   "outputs": [],
   "source": [
    "def pValueForProbeset(probeData, ma = None):\n",
    "    \"\"\"\n",
    "    computes the AS-statistic and the corresponing left and right p-value.\n",
    "    \"\"\"\n",
    "    left_pvalues = []\n",
    "    right_pvalues = []\n",
    "    if not ma:\n",
    "        ma = modalAllele()\n",
    "    for data in probeData:\n",
    "        regressR = linregress(ma, data)\n",
    "        left_pvalues.append(regressR.leftpvalue)\n",
    "        right_pvalues.append(regressR.rightpvalue)\n",
    "    leftresult = productCDF(product(left_pvalues), len(left_pvalues))\n",
    "    rightresult = productCDF(product(right_pvalues), len(right_pvalues))\n",
    "    return min(leftresult, rightresult) * 2"
   ]
  },
  {
   "cell_type": "code",
   "execution_count": 335,
   "metadata": {
    "collapsed": true
   },
   "outputs": [],
   "source": [
    "def correctedData(gene, shuffleMA = False):\n",
    "    \"\"\"\n",
    "    computes the average gene expression correction.\n",
    "    \"\"\"\n",
    "    probesets = getGenecodeGenenameToProbeset(gene)\n",
    "    allPatientsGenes = [[] for _ in modalAllele()]\n",
    "    patientCorrections = []\n",
    "    for probeset in probesets:\n",
    "        for patientNo, probesetD in enumerate(probesetPatientData(probeset)):\n",
    "            for probeD in probesetD:\n",
    "                allPatientsGenes[patientNo].append(probeD)\n",
    "    for patientD in allPatientsGenes:\n",
    "        patientCorrections.append(sum(patientD)/len(patientD))\n",
    "    resultData = {}\n",
    "    pValues = {}\n",
    "    modalA = [i for i in modalAllele()]\n",
    "    if shuffleMA:\n",
    "        random.shuffle(modalA)\n",
    "    for probeset in probesets:\n",
    "        newData = []\n",
    "        for oldData in probesetData(probeset):\n",
    "            newData.append([point - correction for point, correction in zip(oldData, patientCorrections)])\n",
    "        resultData[probeset] = newData\n",
    "        pValue = pValueForProbeset(newData, ma = modalA)\n",
    "        pValues[probeset] = pValue\n",
    "    return (pValues, resultData)"
   ]
  },
  {
   "cell_type": "markdown",
   "metadata": {},
   "source": [
    "# An interesting observation, which shows that values greater that `0.9**4` are less likely than values less than `0.1**4` under the product distribution with 4 degrees of freedom.\n",
    "\n",
    "However, this won't influence our results, as the \"intermediate\" p-values we're using always come in pairs, `p` and `1-p`. After computing the product, we always take the smallest one, which makes the result consistent for both upregulated and downregulated exons."
   ]
  },
  {
   "cell_type": "code",
   "execution_count": 293,
   "metadata": {
    "collapsed": false
   },
   "outputs": [
    {
     "name": "stdout",
     "output_type": "stream",
     "text": [
      "0.000940523891325\n",
      "0.0182844955163\n"
     ]
    }
   ],
   "source": [
    "print(1 - productCDF(0.9**4, 4))\n",
    "print(productCDF(0.1**4, 4))"
   ]
  },
  {
   "cell_type": "markdown",
   "metadata": {},
   "source": [
    "# Here we double-check that productCDF works (we expect answer to be close to 0.5)"
   ]
  },
  {
   "cell_type": "code",
   "execution_count": 295,
   "metadata": {
    "collapsed": false
   },
   "outputs": [
    {
     "name": "stdout",
     "output_type": "stream",
     "text": [
      "0.526882130193\n"
     ]
    }
   ],
   "source": [
    "k = 0\n",
    "v = 10\n",
    "for i in range(v):\n",
    "    k += productCDF(product([random.uniform(0, 1) for i in range(4)]), 4)\n",
    "print(k/v)"
   ]
  },
  {
   "cell_type": "code",
   "execution_count": 296,
   "metadata": {
    "collapsed": false
   },
   "outputs": [],
   "source": [
    "import random\n",
    "geneData = {}\n",
    "for _, gene in zip(range(10), cleanedUpGenes):\n",
    "    geneData[gene] = correctedData(gene)[0]"
   ]
  },
  {
   "cell_type": "markdown",
   "metadata": {},
   "source": [
    "# Here we repeat the process of alternative splicing discovery from the previous pipeline, but this time using a null distribution."
   ]
  },
  {
   "cell_type": "code",
   "execution_count": 78,
   "metadata": {
    "collapsed": false
   },
   "outputs": [],
   "source": [
    "nakamoriGenes = set()\n",
    "\n",
    "with open(\"geneList\") as f:\n",
    "    for line in f:\n",
    "        if not line:\n",
    "            continue\n",
    "        if line [0] == \"#\":\n",
    "            continue\n",
    "        gene = line.split(\",\")[0]\n",
    "        nakamoriGenes.add(gene)\n",
    "\n",
    "nakamoriNo = len(nakamoriGenes)\n",
    "commonGenes = nakamoriGenes.intersection(allOurGenes)\n",
    "agreedWith = len(commonGenes)"
   ]
  },
  {
   "cell_type": "markdown",
   "metadata": {},
   "source": [
    "# We begin by counting how many probesets we have to look at."
   ]
  },
  {
   "cell_type": "code",
   "execution_count": 304,
   "metadata": {
    "collapsed": false
   },
   "outputs": [
    {
     "data": {
      "text/plain": [
       "442050"
      ]
     },
     "execution_count": 304,
     "metadata": {},
     "output_type": "execute_result"
    }
   ],
   "source": [
    "probesetCount = 0\n",
    "\n",
    "for gene in cleanedUpGenes:\n",
    "    probesetCount += len(getGenecodeGenenameToProbeset(gene))\n",
    "probesetCount"
   ]
  },
  {
   "cell_type": "markdown",
   "metadata": {},
   "source": [
    "# We can then carry out the simulation to retrieve a \"real\" or \"final\" p-value."
   ]
  },
  {
   "cell_type": "code",
   "execution_count": 395,
   "metadata": {
    "collapsed": false
   },
   "outputs": [
    {
     "data": {
      "text/plain": [
       "1"
      ]
     },
     "execution_count": 395,
     "metadata": {},
     "output_type": "execute_result"
    }
   ],
   "source": [
    "redisConn[\"alterSplice\"].delete(\"simProbesets\")"
   ]
  },
  {
   "cell_type": "code",
   "execution_count": 397,
   "metadata": {
    "collapsed": false
   },
   "outputs": [
    {
     "name": "stdout",
     "output_type": "stream",
     "text": [
      "5710.0147793293\n"
     ]
    }
   ],
   "source": [
    "import random\n",
    "import time\n",
    "start = time.time()\n",
    "for i in range(10):\n",
    "    for _, gene in zip(range(2**64), cleanedUpGenes):\n",
    "        interPValues = correctedData(gene, shuffleMA = True)[0]\n",
    "        for (probeset, interPValue) in interPValues.items():\n",
    "            key = gene + \"$\" + probeset + \"$\" + str(i)\n",
    "            redisConn[\"alterSplice\"].zadd(\"simProbesets\", interPValue, key)\n",
    "stop = time.time()\n",
    "print(stop - start)"
   ]
  },
  {
   "cell_type": "markdown",
   "metadata": {},
   "source": [
    "# As you can see, real p-values lose about 5 orders of magnitude."
   ]
  },
  {
   "cell_type": "code",
   "execution_count": 398,
   "metadata": {
    "collapsed": false
   },
   "outputs": [
    {
     "name": "stdout",
     "output_type": "stream",
     "text": [
      "5.5649813369528334e-05\n",
      "0.0002397918787467481\n"
     ]
    }
   ],
   "source": [
    "def realPValue(interPValue):\n",
    "    lessThan = redisConn[\"alterSplice\"].zcount(\"simProbesets\", min=\"-inf\", max=interPValue)\n",
    "    total = redisConn[\"alterSplice\"].zcount(\"simProbesets\", min=\"-inf\", max=\"+inf\")\n",
    "    return lessThan/total\n",
    "\n",
    "print(realPValue(10**(-10)))\n",
    "print(realPValue(10**(-8)))"
   ]
  },
  {
   "cell_type": "markdown",
   "metadata": {},
   "source": [
    "# And finally we can run the experiment again"
   ]
  },
  {
   "cell_type": "code",
   "execution_count": 399,
   "metadata": {
    "collapsed": false,
    "scrolled": true
   },
   "outputs": [
    {
     "data": {
      "text/plain": [
       "0"
      ]
     },
     "execution_count": 399,
     "metadata": {},
     "output_type": "execute_result"
    }
   ],
   "source": [
    "redisConn[\"alterSplice\"].delete(\"simGeneAS\")"
   ]
  },
  {
   "cell_type": "code",
   "execution_count": 400,
   "metadata": {
    "collapsed": false
   },
   "outputs": [
    {
     "name": "stdout",
     "output_type": "stream",
     "text": [
      "609.6890335083008\n"
     ]
    }
   ],
   "source": [
    "start = time.time()\n",
    "for _, gene in zip(range(2**64), cleanedUpGenes):\n",
    "    interPValues = correctedData(gene)[0]\n",
    "    for (probeset, interPValue) in interPValues.items():\n",
    "        redisConn[\"alterSplice\"].zadd(\"simGeneAS\", realPValue(interPValue), gene + \"$\" + probeset)\n",
    "stop = time.time()\n",
    "print(stop - start)"
   ]
  },
  {
   "cell_type": "code",
   "execution_count": 423,
   "metadata": {
    "collapsed": false
   },
   "outputs": [
    {
     "data": {
      "text/plain": [
       "[(b'ABLIM1$3307988', 4.524375070693361e-06),\n",
       " (b'ARHGEF9$4010527', 8.143875127248049e-06),\n",
       " (b'ABLIM1$3308051', 1.4478000226218754e-05),\n",
       " (b'ARHGAP5$3531485', 1.5382875240357426e-05),\n",
       " (b'RAPH1$2595566', 1.6966406515100102e-05),\n",
       " (b'ARHGAP5$3531527', 1.7192625268634768e-05),\n",
       " (b'ABLIM1$3308076', 1.7871281529238773e-05),\n",
       " (b'ABLIM1$3307940', 1.945481280398145e-05),\n",
       " (b'PKP2$3450255', 1.9907250311050785e-05),\n",
       " (b'TBX3$3472764', 1.9907250311050785e-05),\n",
       " (b'ABLIM1$3308075', 2.0133469064585454e-05),\n",
       " (b'ABLIM1$3308001', 2.171700033932813e-05),\n",
       " (b'ABLIM1$3308034', 2.375296912114014e-05),\n",
       " (b'ABLIM1$3308091', 2.420540662820948e-05),\n",
       " (b'ABLIM1$3307961', 2.488406288881348e-05),\n",
       " (b'ARHGAP5$3531521', 2.8729781698902838e-05),\n",
       " (b'NFIX$3822162', 2.9634656713041512e-05),\n",
       " (b'TBX3$3472777', 3.1444406741318854e-05),\n",
       " (b'PKP2$3450266', 3.2349281755457525e-05),\n",
       " (b'ABLIM1$3307963', 3.3027938016061534e-05),\n",
       " (b'ARHGAP5$3531482', 3.3027938016061534e-05)]"
      ]
     },
     "execution_count": 423,
     "metadata": {},
     "output_type": "execute_result"
    }
   ],
   "source": [
    "redisConn[\"alterSplice\"].zrange(\"simGeneAS\", 0, 20, withscores=True)"
   ]
  },
  {
   "cell_type": "markdown",
   "metadata": {},
   "source": [
    "# In order to compare it with the result of the previous version of the pipeline we can take top 800 probesets and see how different the results are (just a sanity check)"
   ]
  },
  {
   "cell_type": "code",
   "execution_count": 402,
   "metadata": {
    "collapsed": false
   },
   "outputs": [],
   "source": [
    "allOurGenes = set()\n",
    "for geneProbesetScore in redisConn[\"alterSplice\"].zrange(\"simGeneAS\", 0, 800, withscores=True):\n",
    "    geneProbeset, score = geneProbesetScore\n",
    "    gene, probeset = d(geneProbeset).split(\"$\")\n",
    "    allOurGenes.add(gene)"
   ]
  },
  {
   "cell_type": "code",
   "execution_count": 403,
   "metadata": {
    "collapsed": false
   },
   "outputs": [
    {
     "name": "stdout",
     "output_type": "stream",
     "text": [
      "{'CHIC2', 'LIMCH1', 'CCDC14', 'F8', 'ZNF675', 'CDC42P3', 'TUBB1', 'SMAD2', 'STK24P1', 'LARP7', 'SGMS2', 'ZNF382', 'TMEM183A', 'ZNF667', 'CDNF', 'ZNF827', 'RAP1A', 'CCDC17', 'TBCD', 'GUSBP2', 'SEPT7P3', 'ZNF93', 'TBC1D23', 'LGR5', 'LRIG3', 'ZNF75A', 'CEP112', 'VPS35P1', 'ZNF721', 'FHOD1', 'RPGR', 'CILP', 'PAFAH1B2', 'SSFA2', 'MBD5', 'SAMD4A', 'MAP7D3', 'PPIC', 'CHMP5', 'ARHGAP5', 'ZNF778', 'CFHR1', 'PLPP1', 'C18orf32', 'NFIA', 'LIMS4', 'EOGT', 'EEF1A1P32', 'PHC3', 'NPIPB15', 'CHP1', 'ARHGEF9', 'ZDHHC2', 'TENM1', 'GUSBP1', 'SLC7A10', 'ABHD2', 'DMTF1', 'RPL23AP87', 'ATP11B', 'PDZD11', 'WASHC4', 'NF1', 'TBX3', 'ZNF626', 'NEDD4L', 'TBCK', 'HELZ', 'ABLIM1', 'DLG1', 'MTMR2', 'HMBOX1', 'NFIX', 'SOCS4', 'GLULP3', 'KCNQ1OT1', 'ZNF493', 'TTLL5', 'DIS3', 'SERF2', 'TM9SF2', 'STK3', 'PTPRD', 'RCBTB1', 'ZNF85', 'OFD1', 'PANK3', 'UBLCP1', 'EEF1A1P33', 'HMGB1', 'FGFRL1', 'FOXD4L1', 'SATB2', 'TPTE2', 'BPTF', 'TFPI', 'ZNF682', 'WDR75', 'RASA1', 'AATF', 'ZNF184', 'LNPEP', 'POLR1D', 'LINC00431', 'H3F3A', 'TUBB8P9', 'SMAD1', 'TRIM5', 'UGDH-AS1', 'PKP2', 'SNHG3', 'CSNK1G3', 'SYNE1', 'LIFR', 'TMEM256', 'CBWD1', 'C15orf57', 'GTF2IP1', 'DNMT1', 'TANC2', 'GINM1', 'ZNF385D', 'COPG2', 'ZNF254', 'MAST4', 'RAPH1', 'RBM25', 'TTLL1', 'RIMKLB', 'GUSBP4', 'ATP2A2', 'SLC24A3', 'CFHR3', 'ZNF92', 'CFH', 'FNDC3B', 'SMARCC1', 'COL3A1', 'GTF2I', 'FGD4', 'CKAP2', 'LRRC8B', 'PHLDA1', 'NDN', 'PAPOLA', 'MAPK1', 'G2E3', 'MBNL2', 'ZNF667-AS1', 'ZNF292', 'PAK2', 'OSTM1', 'ZNF429', 'DNAJB11', 'PROSER1', 'ZNF355P', 'SIPA1', 'EMC1', 'OSBPL8', 'AEBP2', 'FBXO31', 'UPF3A', 'ERGIC2', 'CCDC93', 'NIPBL', 'LPP', 'GGNBP2', 'SESN3', 'ZNF732', 'RCAN3', 'GOLT1B', 'ZEB1', 'ZNHIT6', 'ANKRD10', 'MAP3K7', 'NCK2', 'ZNF257', 'PGRMC2', 'CLCN1', 'CSNK2A2', 'LIMS1', 'UBE2Q2', 'NCAM1', 'NHLRC2', 'ABLIM2', 'SRSF8', 'PICALM', 'UBE2J1', 'NPIPB3', 'FRG1BP', 'CFHR4', 'ARHGEF12', 'FAM227B', 'PALMD', 'SAE1', 'ZCCHC6', 'ZNF90P1', 'ZNF676', 'ZNF518A', 'TCP11L2', 'TPTE2P4', 'ZC3H6', 'UBXN7', 'PNN', 'UMAD1', 'OR7E136P', 'EIF3A', 'MYLK2', 'NCSTN', 'CDC42BPB', 'GBP2', 'NAIP', 'TMX3', 'TBC1D15', 'NPIPA5', 'CCDC88A', 'NFIB', 'ROCK1', 'ZNF430', 'ANKRD12', 'TERF1P5', 'CHD9', 'LMAN1', 'TAF2', 'SRP72P1', 'FAM49B', 'CDC73', 'ENPEP', 'MBIP', 'ERRFI1', 'PEG10', 'SLC25A13', 'R3HDM2', 'OBSCN', 'ZNF727', 'STRN', 'CAST', 'ATG3', 'PHF21A', 'DAPK2', 'C3', 'SUPT3H', 'ARFGEF1', 'PLRG1', 'LRR1', 'CEP57', 'SEPT7', 'UBA6', 'ADRB2', 'C5orf24', 'PPP1R12A', 'ADAM10', 'EEA1', 'C9orf85', 'PRKD1', 'VPS35', 'C2CD3', 'ZNF468', 'ZNF880', 'PHF7', 'CBWD3', 'PIGK', 'TNPO1P1', 'NPIPB14P', 'KDM4C', 'TET1', 'TMEM9B', 'NPIPA7', 'IMPAD1', 'TMX1', 'DOCK9', 'PREPL', 'HAUS2', 'NPIPB11', 'C1orf27', 'UTRN', 'LUM', 'GRB14', 'LDB3', 'LRRC75A-AS1', 'YAP1P1', 'DAPK1', 'FAM120B', 'ZSWIM7', 'CLDND1', 'SEC62', 'PTOV1-AS1', 'C9orf24', 'OR7E46P', 'RSU1', 'NKTR', 'CFAP61', 'AKAP13', 'FAT4', 'EXOSC10', 'KIF2A', 'BBS10', 'NFAT5', 'RNF2P1', 'KATNBL1', 'TSTD1', 'RXFP2', 'ANKRD36', 'TET2', 'NEMP1', 'NEK10', 'ANGPT1', 'ILF3', 'CAPRIN2', 'PLEKHA1', 'PSMA2', 'MXRA7', 'LINC01697', 'ZFC3H1', 'PARP11', 'ANP32A', 'EEF1A1P12', 'TMEM47', 'SLC25A17', 'ATP1A1', 'GTF2IP4'}\n"
     ]
    }
   ],
   "source": [
    "print(allOurGenes)"
   ]
  },
  {
   "cell_type": "code",
   "execution_count": 411,
   "metadata": {
    "collapsed": false
   },
   "outputs": [],
   "source": [
    "nakamoriGenes = set()\n",
    "with open(\"geneList\") as f:\n",
    "    for line in f:\n",
    "        if not line:\n",
    "            continue\n",
    "        if line [0] == \"#\":\n",
    "            continue\n",
    "        gene = line.split(\",\")[0]\n",
    "        nakamoriGenes.add(gene)\n",
    "\n",
    "nakamoriNo = len(nakamoriGenes)\n",
    "commonGenes = nakamoriGenes.intersection(allOurGenes)\n",
    "agreedWith = len(commonGenes)"
   ]
  },
  {
   "cell_type": "code",
   "execution_count": 412,
   "metadata": {
    "collapsed": false
   },
   "outputs": [
    {
     "data": {
      "text/plain": [
       "{'ATP2A2', 'CLCN1', 'FHOD1', 'LDB3', 'MBNL2', 'NFIX', 'TBC1D15'}"
      ]
     },
     "execution_count": 412,
     "metadata": {},
     "output_type": "execute_result"
    }
   ],
   "source": [
    "commonGenes"
   ]
  },
  {
   "cell_type": "markdown",
   "metadata": {},
   "source": [
    "# We still agree on 7 genes, but this time ATP2A2 makes it to the list, while MBNL1 doesn't."
   ]
  },
  {
   "cell_type": "markdown",
   "metadata": {
    "collapsed": true
   },
   "source": [
    "# We can also look at the zinc fingers hypothesis."
   ]
  },
  {
   "cell_type": "code",
   "execution_count": 406,
   "metadata": {
    "collapsed": false
   },
   "outputs": [
    {
     "data": {
      "text/plain": [
       "1.0"
      ]
     },
     "execution_count": 406,
     "metadata": {},
     "output_type": "execute_result"
    }
   ],
   "source": [
    "[x, M, n, N] = [agreedWith - 1, len(cleanedUpGenes), nakamoriNo , len(allOurGenes)]\n",
    "scipy.stats.hypergeom.sf(x, M, n, N)"
   ]
  },
  {
   "cell_type": "code",
   "execution_count": 407,
   "metadata": {
    "collapsed": true
   },
   "outputs": [],
   "source": [
    "geneExpression = set()\n",
    "with open(\"geneExpression\") as ge:\n",
    "    for line in ge:\n",
    "        for elem in line.rstrip().split():\n",
    "            geneExpression.add(elem)"
   ]
  },
  {
   "cell_type": "code",
   "execution_count": 408,
   "metadata": {
    "collapsed": false
   },
   "outputs": [
    {
     "name": "stdout",
     "output_type": "stream",
     "text": [
      "321\n",
      "877\n",
      "25\n"
     ]
    },
    {
     "data": {
      "text/plain": [
       "0.00037788473593942858"
      ]
     },
     "execution_count": 408,
     "metadata": {},
     "output_type": "execute_result"
    }
   ],
   "source": [
    "commonGE = allOurGenes.intersection(geneExpression)\n",
    "print(len(allOurGenes))\n",
    "print(len(geneExpression))\n",
    "print(len(commonGE))\n",
    "[x, M, n, N] = [len(commonGE) - 1, len(cleanedUpGenes), len(geneExpression) , len(allOurGenes)]\n",
    "scipy.stats.hypergeom.sf(x, M, n, N)"
   ]
  },
  {
   "cell_type": "code",
   "execution_count": null,
   "metadata": {
    "collapsed": true
   },
   "outputs": [],
   "source": []
  }
 ],
 "metadata": {
  "kernelspec": {
   "display_name": "transvis",
   "language": "python",
   "name": "transvis"
  },
  "language_info": {
   "codemirror_mode": {
    "name": "ipython",
    "version": 3
   },
   "file_extension": ".py",
   "mimetype": "text/x-python",
   "name": "python",
   "nbconvert_exporter": "python",
   "pygments_lexer": "ipython3",
   "version": "3.5.2"
  }
 },
 "nbformat": 4,
 "nbformat_minor": 2
}
