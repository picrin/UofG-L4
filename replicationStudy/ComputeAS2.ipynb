{
 "cells": [
  {
   "cell_type": "markdown",
   "metadata": {},
   "source": [
    "# Alternative Splicing in MD"
   ]
  },
  {
   "cell_type": "code",
   "execution_count": 4,
   "metadata": {
    "collapsed": false
   },
   "outputs": [],
   "source": [
    "from transvis.io import *\n",
    "from transvis.alterSplice import *\n",
    "from transvis.utils import *\n",
    "initDB()"
   ]
  },
  {
   "cell_type": "code",
   "execution_count": 9,
   "metadata": {
    "collapsed": true
   },
   "outputs": [],
   "source": [
    "# you can set this up to 2**64 if you want everything processed, or less for debugging.\n",
    "processedNo = 2**64"
   ]
  },
  {
   "cell_type": "code",
   "execution_count": 10,
   "metadata": {
    "collapsed": true
   },
   "outputs": [],
   "source": [
    "from intervaltree import Interval, IntervalTree\n",
    "intervaltrees = {}\n"
   ]
  },
  {
   "cell_type": "markdown",
   "metadata": {},
   "source": [
    "# We're going to iterate through all probesets, and retrive from the annotation metadata corresponding to each probeset the probeset location, expressed in genomic coordinates with GRCh37 as the reference genome."
   ]
  },
  {
   "cell_type": "markdown",
   "metadata": {},
   "source": [
    "## Takes about 5 minutes"
   ]
  },
  {
   "cell_type": "code",
   "execution_count": 10,
   "metadata": {
    "collapsed": false
   },
   "outputs": [],
   "source": [
    "currentIter = transIter()\n",
    "\n",
    "allchr = set()\n",
    "\n",
    "# ml := metadataLookup\n",
    "ml = {key : value for key, value in zip(metadataKeys(), range(len(metadataKeys())))}\n",
    "for _, transID in zip(range(processedNo), currentIter):\n",
    "    probesets = transToProbeset(transID)\n",
    "    for probeset in probesets:\n",
    "        metadata = probesetAnnotationMetadata(probeset)\n",
    "        seqname = metadata[ml['seqname']]\n",
    "        strand = metadata[ml['strand']]\n",
    "        seqname += strand\n",
    "        if re.findall(\"^chr*\", seqname):\n",
    "            allchr.add(seqname)\n",
    "            if seqname not in intervaltrees:\n",
    "                t = IntervalTree()\n",
    "                intervaltrees[seqname] = t\n",
    "            else:\n",
    "                t = intervaltrees[seqname]\n",
    "            start = metadata[ml['start']]\n",
    "            stop = metadata[ml['stop']]\n",
    "            try:\n",
    "                start = int(start)\n",
    "                stop = int(stop)\n",
    "            except ValueError:\n",
    "                continue\n",
    "            if start == 0 or stop == 0:\n",
    "                continue\n",
    "            t[start:stop] = probeset"
   ]
  },
  {
   "cell_type": "markdown",
   "metadata": {},
   "source": [
    "# Then, we'll iterate through all genecode transcripts, and use the Binary Interval Tree, to find those probesets, which are strictly contained within exons belonging to these transcripts."
   ]
  },
  {
   "cell_type": "markdown",
   "metadata": {},
   "source": [
    "## Takes another 5 minutes"
   ]
  },
  {
   "cell_type": "code",
   "execution_count": 59,
   "metadata": {
    "collapsed": false,
    "scrolled": true
   },
   "outputs": [],
   "source": [
    "for c in allchr:\n",
    "    c = c[:-1]\n",
    "    for genecodeI, genecode in zip(range(processedNo), genecodeIter(c)):\n",
    "        for transcriptI, transcript in enumerate(genecode):\n",
    "            typ = transcript[0]\n",
    "            chromosome = transcript[1]\n",
    "            suffix = transcript[2]\n",
    "            seqname = chromosome + suffix\n",
    "            if typ == \"exon\":\n",
    "                key = transcript[-1]\n",
    "                start = int(transcript[3])\n",
    "                stop = int(transcript[4])\n",
    "                setGenecodeGenenameBoundary(key, chromosome, suffix, start, stop)\n",
    "                result = intervaltrees[seqname].search(start, stop, strict=True)\n",
    "                if result:\n",
    "                    for interval in result:\n",
    "                        probeset = interval.data\n",
    "                        setGenecodeGenenameToProbeset(key, probeset)\n"
   ]
  },
  {
   "cell_type": "markdown",
   "metadata": {},
   "source": [
    "# For example all MBNL1's exons strictly contain the following probesets."
   ]
  },
  {
   "cell_type": "code",
   "execution_count": 11,
   "metadata": {
    "collapsed": false
   },
   "outputs": [
    {
     "data": {
      "text/plain": [
       "{b'2648142',\n",
       " b'2648143',\n",
       " b'2648146',\n",
       " b'2648147',\n",
       " b'2648158',\n",
       " b'2648159',\n",
       " b'2648160',\n",
       " b'2648161',\n",
       " b'2648167',\n",
       " b'2648174',\n",
       " b'2648175',\n",
       " b'2648178',\n",
       " b'2648180',\n",
       " b'2648181',\n",
       " b'2648184',\n",
       " b'2648185',\n",
       " b'2648186',\n",
       " b'2648194',\n",
       " b'2648197',\n",
       " b'2648199',\n",
       " b'2648200',\n",
       " b'2648201',\n",
       " b'2648202',\n",
       " b'2648203',\n",
       " b'2648204',\n",
       " b'2648205'}"
      ]
     },
     "execution_count": 11,
     "metadata": {},
     "output_type": "execute_result"
    }
   ],
   "source": [
    "getGenecodeGenenameToProbeset(\"MBNL1\")"
   ]
  },
  {
   "cell_type": "markdown",
   "metadata": {},
   "source": [
    "# For the visualisation tool we also record the genomic coordinates of each gene\n"
   ]
  },
  {
   "cell_type": "code",
   "execution_count": 9,
   "metadata": {
    "collapsed": false
   },
   "outputs": [
    {
     "data": {
      "text/plain": [
       "[151961617, 152183569, 'chr3', '+']"
      ]
     },
     "execution_count": 9,
     "metadata": {},
     "output_type": "execute_result"
    }
   ],
   "source": [
    "getGenecodeGenenameBoundary(\"MBNL1\")"
   ]
  },
  {
   "cell_type": "code",
   "execution_count": 10,
   "metadata": {
    "collapsed": false,
    "scrolled": false
   },
   "outputs": [],
   "source": [
    "genecodeHGNC = set(d(i).split(\"$\")[-1] for i in redisConn[\"genecode\"].keys(\"genename$probeset$*\"))"
   ]
  },
  {
   "cell_type": "code",
   "execution_count": 11,
   "metadata": {
    "collapsed": true
   },
   "outputs": [],
   "source": [
    "properHGNC = set()"
   ]
  },
  {
   "cell_type": "code",
   "execution_count": 12,
   "metadata": {
    "collapsed": false
   },
   "outputs": [],
   "source": [
    "with open(\"CEL_files/HGNC_names.txt\") as f:\n",
    "    for line in f:\n",
    "        properHGNC.add(line.strip())"
   ]
  },
  {
   "cell_type": "markdown",
   "metadata": {},
   "source": [
    "# The file HGNC_names.txt contains all legal HGNC names, as per the HGNC website. As one can see, there are 40938 genes in total in this reference database"
   ]
  },
  {
   "cell_type": "code",
   "execution_count": 13,
   "metadata": {
    "collapsed": false
   },
   "outputs": [
    {
     "data": {
      "text/plain": [
       "40938"
      ]
     },
     "execution_count": 13,
     "metadata": {},
     "output_type": "execute_result"
    }
   ],
   "source": [
    "len(properHGNC)"
   ]
  },
  {
   "cell_type": "markdown",
   "metadata": {},
   "source": [
    "# Our method of using genecode identifies over 43 thousand genes."
   ]
  },
  {
   "cell_type": "code",
   "execution_count": 14,
   "metadata": {
    "collapsed": false
   },
   "outputs": [
    {
     "data": {
      "text/plain": [
       "43705"
      ]
     },
     "execution_count": 14,
     "metadata": {},
     "output_type": "execute_result"
    }
   ],
   "source": [
    "len(genecodeHGNC)"
   ]
  },
  {
   "cell_type": "markdown",
   "metadata": {},
   "source": [
    "# Let us narrow down to the genes at the intersection of these gene lists."
   ]
  },
  {
   "cell_type": "code",
   "execution_count": 15,
   "metadata": {
    "collapsed": false
   },
   "outputs": [],
   "source": [
    "genesToInvest = properHGNC.intersection(genecodeHGNC)"
   ]
  },
  {
   "cell_type": "code",
   "execution_count": 16,
   "metadata": {
    "collapsed": false
   },
   "outputs": [
    {
     "data": {
      "text/plain": [
       "28898"
      ]
     },
     "execution_count": 16,
     "metadata": {},
     "output_type": "execute_result"
    }
   ],
   "source": [
    "len(genesToInvest)"
   ]
  },
  {
   "cell_type": "code",
   "execution_count": 17,
   "metadata": {
    "collapsed": false
   },
   "outputs": [],
   "source": [
    "distribution = [len(getGenecodeGenenameToProbeset(i)) for i in genesToInvest]"
   ]
  },
  {
   "cell_type": "code",
   "execution_count": 18,
   "metadata": {
    "collapsed": false
   },
   "outputs": [],
   "source": [
    "%matplotlib inline\n",
    "\n",
    "import matplotlib\n",
    "import numpy as np\n",
    "import matplotlib.pyplot as plt"
   ]
  },
  {
   "cell_type": "code",
   "execution_count": 19,
   "metadata": {
    "collapsed": false
   },
   "outputs": [
    {
     "data": {
      "text/plain": [
       "1"
      ]
     },
     "execution_count": 19,
     "metadata": {},
     "output_type": "execute_result"
    }
   ],
   "source": [
    "len([i for i in distribution if i > 400])"
   ]
  },
  {
   "cell_type": "code",
   "execution_count": 20,
   "metadata": {
    "collapsed": false
   },
   "outputs": [
    {
     "name": "stdout",
     "output_type": "stream",
     "text": [
      "TTN\n"
     ]
    }
   ],
   "source": [
    "for i in genesToInvest:\n",
    "    probesets = getGenecodeGenenameToProbeset(i)\n",
    "    if len(probesets) > 400:\n",
    "        print(i)"
   ]
  },
  {
   "cell_type": "markdown",
   "metadata": {},
   "source": [
    "# That for example is a histogram of probesets/gene. The gene with the highest number of probesets is titin (which is actually a very interesting gene/protein)"
   ]
  },
  {
   "cell_type": "code",
   "execution_count": 21,
   "metadata": {
    "collapsed": false
   },
   "outputs": [
    {
     "data": {
      "image/png": "[encoded data removed]",
      "text/plain": [
       "<matplotlib.figure.Figure at 0x7f932bb0eac8>"
      ]
     },
     "metadata": {},
     "output_type": "display_data"
    }
   ],
   "source": [
    "ax1 = plt.subplot()\n",
    "ax1.hist(distribution, bins=100)\n",
    "_ = _"
   ]
  },
  {
   "cell_type": "code",
   "execution_count": 22,
   "metadata": {
    "collapsed": true
   },
   "outputs": [],
   "source": [
    "# We can zoom in to discover how many genes have outragesouly few probes (I suggest we resign from all genes with < 4 probes)."
   ]
  },
  {
   "cell_type": "code",
   "execution_count": 23,
   "metadata": {
    "collapsed": false
   },
   "outputs": [
    {
     "data": {
      "image/png": "[encoded data removed]",
      "text/plain": [
       "<matplotlib.figure.Figure at 0x7f9329039198>"
      ]
     },
     "metadata": {},
     "output_type": "display_data"
    }
   ],
   "source": [
    "ax1 = plt.subplot()\n",
    "ax1.hist(distribution, bins=1000)\n",
    "ax1.set_xlim([0, 10])\n",
    "_ = _"
   ]
  },
  {
   "cell_type": "markdown",
   "metadata": {},
   "source": [
    "# Just to be sure, let's check how large are the \"windows\" we're going to look at our genes through"
   ]
  },
  {
   "cell_type": "code",
   "execution_count": 24,
   "metadata": {
    "collapsed": false
   },
   "outputs": [],
   "source": [
    "windows = [(gene, getGenecodeGenenameBoundary(gene)) for gene in genesToInvest]"
   ]
  },
  {
   "cell_type": "code",
   "execution_count": 25,
   "metadata": {
    "collapsed": false
   },
   "outputs": [],
   "source": [
    "windowsSize = [(stop - start, start, stop, gene, chromosome, strand) for gene, (start, stop, chromosome, strand) in windows]"
   ]
  },
  {
   "cell_type": "code",
   "execution_count": 26,
   "metadata": {
    "collapsed": true
   },
   "outputs": [],
   "source": [
    "windowsSize.sort()"
   ]
  },
  {
   "cell_type": "markdown",
   "metadata": {},
   "source": [
    "# Then, let's check if there are any genes, which were incorrectly assigened very large windows."
   ]
  },
  {
   "cell_type": "code",
   "execution_count": 27,
   "metadata": {
    "collapsed": false
   },
   "outputs": [
    {
     "data": {
      "text/plain": [
       "[(1697917, 78636716, 80334633, 'NRXN3', 'chr14', '+'),\n",
       " (1743269, 75955846, 77699115, 'ROBO2', 'chr3', '+'),\n",
       " (1783651, 67672276, 69455927, 'CTNNA3', 'chr10', '-'),\n",
       " (1825171, 55562531, 57387702, 'PCDH15', 'chr10', '-'),\n",
       " (1900278, 140988992, 142889270, 'LRP1B', 'chr2', '-'),\n",
       " (1987242, 64429876, 66417118, 'EYS', 'chr6', '-'),\n",
       " (2057827, 13976015, 16033842, 'MACROD2', 'chr20', '+'),\n",
       " (2059619, 2792875, 4852494, 'CSMD1', 'chr8', '-'),\n",
       " (2172911, 83166055, 85338966, 'DLG2', 'chr11', '-'),\n",
       " (2241764, 31115794, 33357558, 'DMD', 'chrX', '-'),\n",
       " (2298477, 8314246, 10612723, 'PTPRD', 'chr9', '-'),\n",
       " (2304996, 145813094, 148118090, 'CNTNAP2', 'chr7', '+'),\n",
       " (24961288, 29558488, 54519776, 'LINC01598', 'chr12', '-'),\n",
       " (95897243, 59208305, 155105548, 'DPH3P2', 'chrX', '+'),\n",
       " (95897327, 59311663, 155208990, 'ELOCP24', 'chrX', '-'),\n",
       " (95897873, 59318041, 155215914, 'TRPC6P', 'chrX', '-'),\n",
       " (95901878, 59353497, 155255375, 'WASH6P', 'chrX', '+'),\n",
       " (95910230, 59330252, 155240482, 'IL9R', 'chrX', '+'),\n",
       " (95911641, 59100480, 155012121, 'SPRY3', 'chrX', '+'),\n",
       " (95959471, 59213962, 155173433, 'VAMP7', 'chrX', '+')]"
      ]
     },
     "execution_count": 27,
     "metadata": {},
     "output_type": "execute_result"
    }
   ],
   "source": [
    "windowsSize[-20:]"
   ]
  },
  {
   "cell_type": "markdown",
   "metadata": {},
   "source": [
    "# Some reading suggests that everything larger than CNTNAP2 is due to errors in our annotation methodology or genecode and should not be included."
   ]
  },
  {
   "cell_type": "code",
   "execution_count": 28,
   "metadata": {
    "collapsed": true
   },
   "outputs": [],
   "source": [
    "maxWindowSizeThreshold = 5000000"
   ]
  },
  {
   "cell_type": "code",
   "execution_count": 29,
   "metadata": {
    "collapsed": true
   },
   "outputs": [],
   "source": [
    "minProbesetSize = 4"
   ]
  },
  {
   "cell_type": "code",
   "execution_count": 30,
   "metadata": {
    "collapsed": true
   },
   "outputs": [],
   "source": [
    "cleanedUpGenes = []"
   ]
  },
  {
   "cell_type": "code",
   "execution_count": 31,
   "metadata": {
    "collapsed": false
   },
   "outputs": [],
   "source": [
    "for gene in genesToInvest:\n",
    "    start, stop, chromosome, strand = getGenecodeGenenameBoundary(gene)\n",
    "    if stop - start > maxWindowSizeThreshold:\n",
    "        continue\n",
    "    if len(getGenecodeGenenameToProbeset(gene)) < minProbesetSize:\n",
    "        continue\n",
    "    cleanedUpGenes.append(gene)"
   ]
  },
  {
   "cell_type": "markdown",
   "metadata": {},
   "source": [
    "# This leaves us with 23827 genes to look at"
   ]
  },
  {
   "cell_type": "code",
   "execution_count": 32,
   "metadata": {
    "collapsed": false
   },
   "outputs": [
    {
     "data": {
      "text/plain": [
       "23827"
      ]
     },
     "execution_count": 32,
     "metadata": {},
     "output_type": "execute_result"
    }
   ],
   "source": [
    "len(cleanedUpGenes)"
   ]
  },
  {
   "cell_type": "code",
   "execution_count": 62,
   "metadata": {
    "collapsed": true
   },
   "outputs": [],
   "source": [
    "def pValueForProbeset(probeData):\n",
    "    left_pvalues = []\n",
    "    right_pvalues = []\n",
    "    ma = modalAllele()\n",
    "    for seq, data in probeData.items():\n",
    "        assert(len(ma) == len(data))\n",
    "        regressR = linregress(ma, data)\n",
    "        left_pvalues.append(regressR.leftpvalue)\n",
    "        right_pvalues.append(regressR.rightpvalue)\n",
    "    leftresult = productCDF(product(left_pvalues), len(left_pvalues))\n",
    "    rightresult = productCDF(product(right_pvalues), len(right_pvalues))\n",
    "    return min(leftresult, rightresult) * 2"
   ]
  },
  {
   "cell_type": "code",
   "execution_count": 63,
   "metadata": {
    "collapsed": true
   },
   "outputs": [],
   "source": [
    "def computeGenePValue(probesets, modalAllele):\n",
    "    if not probesets:\n",
    "        raise ValueError(\"probesets can't be empty\")\n",
    "    corrections = []\n",
    "    for i, probeset in enumerate(probesets):\n",
    "        data, probemetadata = dataForProbeset(probeset)\n",
    "        for seq, intensities in data.items():\n",
    "            allProbeData.append(intensities)\n",
    "    allProbeData = np.array(allProbeData)\n",
    "    for j in range(allProbeData.shape[1]):\n",
    "        corrections.append(sum(allProbeData[:, j])/allProbeData.shape[0])\n",
    "    result = []\n",
    "    for i, probeset in enumerate(probesets):\n",
    "        data, probemetadata = dataForProbeset(probeset)\n",
    "        newData = {}\n",
    "        for seq, intensities in data.items():\n",
    "            newIntensities = [datum - correction for datum, correction in zip(intensities, corrections)]\n",
    "            newData[seq] = newIntensities\n",
    "        result.append((pValueForProbeset(customMA, newData), probeset))\n",
    "    result.sort()\n",
    "    return result"
   ]
  },
  {
   "cell_type": "code",
   "execution_count": 73,
   "metadata": {
    "collapsed": false
   },
   "outputs": [
    {
     "name": "stdout",
     "output_type": "stream",
     "text": [
      "0.321878220837\n",
      "0.111405823311\n",
      "0.234487327438\n",
      "0.0133989654802\n",
      "0.685116997593\n"
     ]
    }
   ],
   "source": [
    "for gene in cleanedUpGenes:\n",
    "    probesets = getGenecodeGenenameToProbeset(gene)\n",
    "    allPatientsGenes = [[] for _ in modalAllele()]\n",
    "    patientCorrections = []\n",
    "    for probeset in probesets:\n",
    "        for patientNo, probesetData in enumerate(probesetPatientData(probeset)):\n",
    "            for probeD in probesetData:\n",
    "                allPatientsGenes[patientNo].append(probeD)\n",
    "    \n",
    "    for patientD in allPatientsGenes:\n",
    "        patientCorrections.append(sum(patientD)/len(patientD))\n",
    "    for probeset in probesets:\n",
    "        print(pValueForProbeset(dataForProbeset(str(probesetAnnotationMetadata(probeset)[0]))[\"probeData\"]))\n",
    "    #print(patientCorrections)\n",
    "    break"
   ]
  },
  {
   "cell_type": "code",
   "execution_count": null,
   "metadata": {
    "collapsed": true
   },
   "outputs": [],
   "source": []
  },
  {
   "cell_type": "code",
   "execution_count": null,
   "metadata": {
    "collapsed": true
   },
   "outputs": [],
   "source": []
  }
 ],
 "metadata": {
  "kernelspec": {
   "display_name": "transvis",
   "language": "python",
   "name": "transvis"
  },
  "language_info": {
   "codemirror_mode": {
    "name": "ipython",
    "version": 3
   },
   "file_extension": ".py",
   "mimetype": "text/x-python",
   "name": "python",
   "nbconvert_exporter": "python",
   "pygments_lexer": "ipython3",
   "version": "3.5.2"
  }
 },
 "nbformat": 4,
 "nbformat_minor": 2
}
