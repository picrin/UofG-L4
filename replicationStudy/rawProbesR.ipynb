{
 "cells": [
  {
   "cell_type": "markdown",
   "metadata": {},
   "source": [
    "# Raw probes in oligo\n",
    "\n",
    "should give exactly the same results as python"
   ]
  },
  {
   "cell_type": "code",
   "execution_count": 72,
   "metadata": {
    "collapsed": false,
    "scrolled": true
   },
   "outputs": [],
   "source": [
    "library(oligo)\n",
    "\n",
    "filePath <- file.path(getwd(), \"CEL_files\", \"111747589_B.CEL\")"
   ]
  },
  {
   "cell_type": "code",
   "execution_count": 91,
   "metadata": {
    "collapsed": false,
    "scrolled": true
   },
   "outputs": [],
   "source": [
    "sequences <- pmSequence(affyRaw)\n",
    "intensities <- pm(affyRaw)"
   ]
  },
  {
   "cell_type": "code",
   "execution_count": null,
   "metadata": {
    "collapsed": true
   },
   "outputs": [],
   "source": [
    "# These should be the same as in rawProbesPython"
   ]
  },
  {
   "cell_type": "code",
   "execution_count": 97,
   "metadata": {
    "collapsed": false
   },
   "outputs": [
    {
     "name": "stdout",
     "output_type": "stream",
     "text": [
      "[1] \"ACCTTATACCAGTAGCAGTCGTACC\" \"CGGCCTACGACATAGGTCCGAGACA\"\n",
      "[3] \"AGAAACTAATAATACACCTGGTGTT\" \"CAGTACGGGCAGCTACAAAACCCAT\"\n",
      "[5] \"AGTCCCACGTGTCGGCGTTGCCGTT\" \"TGCACAGCCTACTGCCACTCGAGTT\"\n",
      "[1] 103\n",
      "[1] 188\n",
      "[1] 42\n",
      "[1] 189\n",
      "[1] 1072\n",
      "[1] 886\n"
     ]
    }
   ],
   "source": [
    "testProbes = c(10, 23, 78, 111, 213, 225)\n",
    "\n",
    "probeSequences = c()\n",
    "\n",
    "for (i in testProbes)\n",
    "{\n",
    "    probeSequences = c(probeSequences, as.character(sequences[[i]]))\n",
    "}\n",
    "\n",
    "print(probeSequences)\n",
    "\n",
    "for (i in testProbes)\n",
    "{\n",
    "    print(intensities[i])\n",
    "}\n",
    "\n"
   ]
  },
  {
   "cell_type": "code",
   "execution_count": null,
   "metadata": {
    "collapsed": true
   },
   "outputs": [],
   "source": []
  }
 ],
 "metadata": {
  "anaconda-cloud": {},
  "kernelspec": {
   "display_name": "R",
   "language": "R",
   "name": "ir"
  },
  "language_info": {
   "codemirror_mode": "r",
   "file_extension": ".r",
   "mimetype": "text/x-r-source",
   "name": "R",
   "pygments_lexer": "r",
   "version": "3.3.1"
  }
 },
 "nbformat": 4,
 "nbformat_minor": 0
}
