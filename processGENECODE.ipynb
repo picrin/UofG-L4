{
 "cells": [
  {
   "cell_type": "code",
   "execution_count": 18,
   "metadata": {
    "collapsed": false
   },
   "outputs": [
    {
     "data": {
      "text/plain": [
       "True"
      ]
     },
     "execution_count": 18,
     "metadata": {},
     "output_type": "execute_result"
    }
   ],
   "source": [
    "genecodeR.flushdb()"
   ]
  },
  {
   "cell_type": "code",
   "execution_count": 35,
   "metadata": {
    "collapsed": true
   },
   "outputs": [],
   "source": [
    "genecodeDB = 4\n",
    "\n",
    "# Set this to a large number (2**64) to \n",
    "geneNo = 100000"
   ]
  },
  {
   "cell_type": "code",
   "execution_count": 36,
   "metadata": {
    "collapsed": true
   },
   "outputs": [],
   "source": [
    "import redis\n",
    "import json"
   ]
  },
  {
   "cell_type": "code",
   "execution_count": 37,
   "metadata": {
    "collapsed": false
   },
   "outputs": [],
   "source": [
    "genecodeR = redis.StrictRedis(host='localhost', db=genecodeDB)"
   ]
  },
  {
   "cell_type": "code",
   "execution_count": 38,
   "metadata": {
    "collapsed": false
   },
   "outputs": [],
   "source": [
    "genes = {}\n",
    "\n",
    "def flushPreviousGene(chromosome, left, right, pieces):\n",
    "    genecodeR.zadd(\"genecode$\" + chromosome, left, json.dumps(pieces))    \n",
    "\n",
    "\n",
    "with open(\"gencode.v25lift37.annotation.gtf\") as geneList:\n",
    "    currentGeneID = None\n",
    "    currentGenePieces = []\n",
    "    currentChromosome = None\n",
    "    leftGene = 0\n",
    "    rightGene = 0\n",
    "    for i, line in enumerate(geneList):\n",
    "        if i == geneNo:\n",
    "            break\n",
    "        if line and line[0] == \"#\":\n",
    "            continue\n",
    "        l = line.split(\";\")\n",
    "        data = l[0].split(\"\\t\")\n",
    "        transcriptID = l[1].split()[-1][1:-1]\n",
    "        geneID = data[-1].split()[-1][1:-1]\n",
    "        geneName = l[4].split()[-1][1:-1]\n",
    "        typ = data[2]\n",
    "        left = data[3]\n",
    "        right = data[4]\n",
    "        chromo = data[0]\n",
    "        strand = data[6]\n",
    "        if typ == \"gene\" and currentGeneID != geneID:\n",
    "            if currentGeneID != None:\n",
    "                flushPreviousGene(currentChromosome, leftGene, rightGene, currentGenePieces)\n",
    "        if typ == \"transcript\":\n",
    "            currentGeneID = transcriptID\n",
    "            currentGenePieces = []\n",
    "            currentChromosome = chromo\n",
    "            leftGene = left\n",
    "            rightGene = right\n",
    "        unit = [typ, chromo, strand, left, right, geneID, geneName]\n",
    "        currentGenePieces.append(unit)\n",
    "    flushPreviousGene(currentChromosome, leftGene, rightGene, currentGenePieces)"
   ]
  },
  {
   "cell_type": "code",
   "execution_count": null,
   "metadata": {
    "collapsed": true
   },
   "outputs": [],
   "source": [
    "\n"
   ]
  },
  {
   "cell_type": "code",
   "execution_count": 39,
   "metadata": {
    "collapsed": false
   },
   "outputs": [
    {
     "data": {
      "text/plain": [
       "[[['transcript',\n",
       "   'chr1',\n",
       "   '-',\n",
       "   '2452806',\n",
       "   '2458036',\n",
       "   'ENSG00000157881.13_2',\n",
       "   'PANK4'],\n",
       "  ['exon', 'chr1', '-', '2457903', '2458036', 'ENSG00000157881.13_2', 'PANK4'],\n",
       "  ['exon',\n",
       "   'chr1',\n",
       "   '-',\n",
       "   '2452806',\n",
       "   '2453239',\n",
       "   'ENSG00000157881.13_2',\n",
       "   'PANK4']],\n",
       " [['transcript',\n",
       "   'chr1',\n",
       "   '-',\n",
       "   '2460184',\n",
       "   '2461684',\n",
       "   'ENSG00000197921.5_1',\n",
       "   'HES5'],\n",
       "  ['exon', 'chr1', '-', '2461550', '2461684', 'ENSG00000197921.5_1', 'HES5'],\n",
       "  ['CDS', 'chr1', '-', '2461550', '2461603', 'ENSG00000197921.5_1', 'HES5'],\n",
       "  ['start_codon',\n",
       "   'chr1',\n",
       "   '-',\n",
       "   '2461601',\n",
       "   '2461603',\n",
       "   'ENSG00000197921.5_1',\n",
       "   'HES5'],\n",
       "  ['exon', 'chr1', '-', '2461285', '2461450', 'ENSG00000197921.5_1', 'HES5'],\n",
       "  ['CDS', 'chr1', '-', '2461285', '2461450', 'ENSG00000197921.5_1', 'HES5'],\n",
       "  ['exon', 'chr1', '-', '2460184', '2461188', 'ENSG00000197921.5_1', 'HES5'],\n",
       "  ['CDS', 'chr1', '-', '2460911', '2461188', 'ENSG00000197921.5_1', 'HES5'],\n",
       "  ['stop_codon',\n",
       "   'chr1',\n",
       "   '-',\n",
       "   '2460908',\n",
       "   '2460910',\n",
       "   'ENSG00000197921.5_1',\n",
       "   'HES5'],\n",
       "  ['UTR', 'chr1', '-', '2461604', '2461684', 'ENSG00000197921.5_1', 'HES5'],\n",
       "  ['UTR', 'chr1', '-', '2460184', '2460910', 'ENSG00000197921.5_1', 'HES5']]]"
      ]
     },
     "execution_count": 39,
     "metadata": {},
     "output_type": "execute_result"
    }
   ],
   "source": [
    "c = \"chr1\"\n",
    "left = 2439184\n",
    "right = 2461794\n",
    "response = []\n",
    "for elem in genecodeR.zrangebyscore(\"genecode$\" + c, left, right):\n",
    "    parsedElem = json.loads(elem.decode(\"ascii\", errors=\"ignore\"))\n",
    "    response.append(parsedElem)\n",
    "response"
   ]
  },
  {
   "cell_type": "code",
   "execution_count": null,
   "metadata": {
    "collapsed": true
   },
   "outputs": [],
   "source": []
  },
  {
   "cell_type": "code",
   "execution_count": null,
   "metadata": {
    "collapsed": true
   },
   "outputs": [],
   "source": []
  }
 ],
 "metadata": {
  "anaconda-cloud": {},
  "kernelspec": {
   "display_name": "Python [Root]",
   "language": "python",
   "name": "Python [Root]"
  },
  "language_info": {
   "codemirror_mode": {
    "name": "ipython",
    "version": 3
   },
   "file_extension": ".py",
   "mimetype": "text/x-python",
   "name": "python",
   "nbconvert_exporter": "python",
   "pygments_lexer": "ipython3",
   "version": "3.5.2"
  }
 },
 "nbformat": 4,
 "nbformat_minor": 0
}
